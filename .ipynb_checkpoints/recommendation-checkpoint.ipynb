{
 "cells": [
  {
   "cell_type": "code",
   "execution_count": 1,
   "metadata": {},
   "outputs": [],
   "source": [
    "import warnings\n",
    "warnings.filterwarnings(\"ignore\")"
   ]
  },
  {
   "cell_type": "code",
   "execution_count": 283,
   "metadata": {},
   "outputs": [],
   "source": [
    "import scripts.data_layer as data_layer"
   ]
  },
  {
   "cell_type": "code",
   "execution_count": 5,
   "metadata": {},
   "outputs": [
    {
     "name": "stdout",
     "output_type": "stream",
     "text": [
      "The autoreload extension is already loaded. To reload it, use:\n",
      "  %reload_ext autoreload\n"
     ]
    }
   ],
   "source": [
    "%load_ext autoreload\n",
    "%autoreload 2\n",
    "\n",
    "import pandas as pd\n",
    "import numpy as np\n",
    "import time\n",
    "import turicreate as tc\n",
    "from sklearn.model_selection import train_test_split\n",
    "\n",
    "import sys\n",
    "sys.path.append(\"..\")\n",
    "#import scripts.data_layer as data_layer"
   ]
  },
  {
   "cell_type": "markdown",
   "metadata": {},
   "source": [
    "# Loading data\n"
   ]
  },
  {
   "cell_type": "code",
   "execution_count": 6,
   "metadata": {},
   "outputs": [],
   "source": [
    "transactions = pd.read_csv('data_500.csv')"
   ]
  },
  {
   "cell_type": "code",
   "execution_count": 7,
   "metadata": {},
   "outputs": [
    {
     "name": "stdout",
     "output_type": "stream",
     "text": [
      "(180000, 26)\n"
     ]
    },
    {
     "data": {
      "text/html": [
       "<div>\n",
       "<style scoped>\n",
       "    .dataframe tbody tr th:only-of-type {\n",
       "        vertical-align: middle;\n",
       "    }\n",
       "\n",
       "    .dataframe tbody tr th {\n",
       "        vertical-align: top;\n",
       "    }\n",
       "\n",
       "    .dataframe thead th {\n",
       "        text-align: right;\n",
       "    }\n",
       "</style>\n",
       "<table border=\"1\" class=\"dataframe\">\n",
       "  <thead>\n",
       "    <tr style=\"text-align: right;\">\n",
       "      <th></th>\n",
       "      <th>Unnamed: 0</th>\n",
       "      <th>Customer_id</th>\n",
       "      <th>Date</th>\n",
       "      <th>Parent_Brand</th>\n",
       "      <th>Brand</th>\n",
       "      <th>MerchantName</th>\n",
       "      <th>PropertyName</th>\n",
       "      <th>StoreNumber</th>\n",
       "      <th>Address</th>\n",
       "      <th>City</th>\n",
       "      <th>...</th>\n",
       "      <th>TimeStamp</th>\n",
       "      <th>Source</th>\n",
       "      <th>SourceVersion</th>\n",
       "      <th>SourceRowID</th>\n",
       "      <th>UpdatedBy</th>\n",
       "      <th>AdcatBrandId</th>\n",
       "      <th>MERCHANT_MARKET_HIERARCHY_ID</th>\n",
       "      <th>merchant_category_code</th>\n",
       "      <th>Active_Flag</th>\n",
       "      <th>Comment</th>\n",
       "    </tr>\n",
       "  </thead>\n",
       "  <tbody>\n",
       "    <tr>\n",
       "      <th>0</th>\n",
       "      <td>0</td>\n",
       "      <td>Customer_426</td>\n",
       "      <td>2021-04-20 12:53 PM</td>\n",
       "      <td>wingstop</td>\n",
       "      <td>wingstop</td>\n",
       "      <td>wingstop - 0052 - mcom</td>\n",
       "      <td>NaN</td>\n",
       "      <td>-1</td>\n",
       "      <td>7332 antoine dr</td>\n",
       "      <td>houston</td>\n",
       "      <td>...</td>\n",
       "      <td>2021-02-24</td>\n",
       "      <td>agg</td>\n",
       "      <td>1.0</td>\n",
       "      <td>1180</td>\n",
       "      <td>nduggirala</td>\n",
       "      <td>18045</td>\n",
       "      <td>-1</td>\n",
       "      <td>5814</td>\n",
       "      <td>True</td>\n",
       "      <td>NaN</td>\n",
       "    </tr>\n",
       "    <tr>\n",
       "      <th>1</th>\n",
       "      <td>1</td>\n",
       "      <td>Customer_243</td>\n",
       "      <td>2021-04-20 02:15 PM</td>\n",
       "      <td>valero</td>\n",
       "      <td>valero</td>\n",
       "      <td>NaN</td>\n",
       "      <td>NaN</td>\n",
       "      <td>-1</td>\n",
       "      <td>13075 kuykendahl rd</td>\n",
       "      <td>houston</td>\n",
       "      <td>...</td>\n",
       "      <td>2021-02-25</td>\n",
       "      <td>agg</td>\n",
       "      <td>1.0</td>\n",
       "      <td>861</td>\n",
       "      <td>nduggirala</td>\n",
       "      <td>34339</td>\n",
       "      <td>-1</td>\n",
       "      <td>5542</td>\n",
       "      <td>True</td>\n",
       "      <td>NaN</td>\n",
       "    </tr>\n",
       "    <tr>\n",
       "      <th>2</th>\n",
       "      <td>2</td>\n",
       "      <td>Customer_985</td>\n",
       "      <td>2021-04-20 12:27 PM</td>\n",
       "      <td>mcdonalds</td>\n",
       "      <td>mcdonalds</td>\n",
       "      <td>NaN</td>\n",
       "      <td>NaN</td>\n",
       "      <td>30021</td>\n",
       "      <td>530 maxey road</td>\n",
       "      <td>houston</td>\n",
       "      <td>...</td>\n",
       "      <td>2020-11-04</td>\n",
       "      <td>webscraped</td>\n",
       "      <td>1.0</td>\n",
       "      <td>9922</td>\n",
       "      <td>sjakkala</td>\n",
       "      <td>14053</td>\n",
       "      <td>9922</td>\n",
       "      <td>5814</td>\n",
       "      <td>True</td>\n",
       "      <td>NaN</td>\n",
       "    </tr>\n",
       "    <tr>\n",
       "      <th>3</th>\n",
       "      <td>3</td>\n",
       "      <td>Customer_527</td>\n",
       "      <td>2021-04-20 01:12 PM</td>\n",
       "      <td>wendy's</td>\n",
       "      <td>wendy's</td>\n",
       "      <td>wendy's 79</td>\n",
       "      <td>NaN</td>\n",
       "      <td>12090</td>\n",
       "      <td>22633 imperial valley dr</td>\n",
       "      <td>houston</td>\n",
       "      <td>...</td>\n",
       "      <td>2021-02-22</td>\n",
       "      <td>agg</td>\n",
       "      <td>1.0</td>\n",
       "      <td>2265</td>\n",
       "      <td>nduggirala</td>\n",
       "      <td>36259</td>\n",
       "      <td>-1</td>\n",
       "      <td>5814</td>\n",
       "      <td>True</td>\n",
       "      <td>NaN</td>\n",
       "    </tr>\n",
       "    <tr>\n",
       "      <th>4</th>\n",
       "      <td>4</td>\n",
       "      <td>Customer_911</td>\n",
       "      <td>2021-04-20 12:05 PM</td>\n",
       "      <td>hertz</td>\n",
       "      <td>hertz</td>\n",
       "      <td>NaN</td>\n",
       "      <td>NaN</td>\n",
       "      <td>HOUC17</td>\n",
       "      <td>501 westlake park blvd.</td>\n",
       "      <td>houston</td>\n",
       "      <td>...</td>\n",
       "      <td>2020-12-08</td>\n",
       "      <td>agg</td>\n",
       "      <td>1.0</td>\n",
       "      <td>2078</td>\n",
       "      <td>dsingh</td>\n",
       "      <td>12561</td>\n",
       "      <td>-1</td>\n",
       "      <td>3357</td>\n",
       "      <td>True</td>\n",
       "      <td>NaN</td>\n",
       "    </tr>\n",
       "  </tbody>\n",
       "</table>\n",
       "<p>5 rows × 26 columns</p>\n",
       "</div>"
      ],
      "text/plain": [
       "   Unnamed: 0   Customer_id                 Date Parent_Brand      Brand  \\\n",
       "0           0  Customer_426  2021-04-20 12:53 PM     wingstop   wingstop   \n",
       "1           1  Customer_243  2021-04-20 02:15 PM       valero     valero   \n",
       "2           2  Customer_985  2021-04-20 12:27 PM    mcdonalds  mcdonalds   \n",
       "3           3  Customer_527  2021-04-20 01:12 PM      wendy's    wendy's   \n",
       "4           4  Customer_911  2021-04-20 12:05 PM        hertz      hertz   \n",
       "\n",
       "             MerchantName PropertyName StoreNumber                   Address  \\\n",
       "0  wingstop - 0052 - mcom          NaN          -1           7332 antoine dr   \n",
       "1                     NaN          NaN          -1       13075 kuykendahl rd   \n",
       "2                     NaN          NaN       30021            530 maxey road   \n",
       "3              wendy's 79          NaN       12090  22633 imperial valley dr   \n",
       "4                     NaN          NaN      HOUC17   501 westlake park blvd.   \n",
       "\n",
       "      City  ...   TimeStamp      Source SourceVersion  SourceRowID  \\\n",
       "0  houston  ...  2021-02-24         agg           1.0         1180   \n",
       "1  houston  ...  2021-02-25         agg           1.0          861   \n",
       "2  houston  ...  2020-11-04  webscraped           1.0         9922   \n",
       "3  houston  ...  2021-02-22         agg           1.0         2265   \n",
       "4  houston  ...  2020-12-08         agg           1.0         2078   \n",
       "\n",
       "    UpdatedBy  AdcatBrandId MERCHANT_MARKET_HIERARCHY_ID  \\\n",
       "0  nduggirala         18045                           -1   \n",
       "1  nduggirala         34339                           -1   \n",
       "2    sjakkala         14053                         9922   \n",
       "3  nduggirala         36259                           -1   \n",
       "4      dsingh         12561                           -1   \n",
       "\n",
       "  merchant_category_code  Active_Flag  Comment  \n",
       "0                   5814         True      NaN  \n",
       "1                   5542         True      NaN  \n",
       "2                   5814         True      NaN  \n",
       "3                   5814         True      NaN  \n",
       "4                   3357         True      NaN  \n",
       "\n",
       "[5 rows x 26 columns]"
      ]
     },
     "execution_count": 7,
     "metadata": {},
     "output_type": "execute_result"
    }
   ],
   "source": [
    "print(transactions.shape)\n",
    "transactions.head()"
   ]
  },
  {
   "cell_type": "code",
   "execution_count": 8,
   "metadata": {},
   "outputs": [],
   "source": [
    "transactions=transactions.groupby(['Customer_id', 'Brand']).size().reset_index(name=\"Count\")"
   ]
  },
  {
   "cell_type": "code",
   "execution_count": 9,
   "metadata": {},
   "outputs": [
    {
     "data": {
      "text/html": [
       "<div>\n",
       "<style scoped>\n",
       "    .dataframe tbody tr th:only-of-type {\n",
       "        vertical-align: middle;\n",
       "    }\n",
       "\n",
       "    .dataframe tbody tr th {\n",
       "        vertical-align: top;\n",
       "    }\n",
       "\n",
       "    .dataframe thead th {\n",
       "        text-align: right;\n",
       "    }\n",
       "</style>\n",
       "<table border=\"1\" class=\"dataframe\">\n",
       "  <thead>\n",
       "    <tr style=\"text-align: right;\">\n",
       "      <th></th>\n",
       "      <th>Customer_id</th>\n",
       "      <th>Brand</th>\n",
       "      <th>Count</th>\n",
       "    </tr>\n",
       "  </thead>\n",
       "  <tbody>\n",
       "    <tr>\n",
       "      <th>0</th>\n",
       "      <td>Customer_0</td>\n",
       "      <td>altar'd state</td>\n",
       "      <td>1</td>\n",
       "    </tr>\n",
       "    <tr>\n",
       "      <th>1</th>\n",
       "      <td>Customer_0</td>\n",
       "      <td>ann taylor loft</td>\n",
       "      <td>1</td>\n",
       "    </tr>\n",
       "    <tr>\n",
       "      <th>2</th>\n",
       "      <td>Customer_0</td>\n",
       "      <td>armani</td>\n",
       "      <td>1</td>\n",
       "    </tr>\n",
       "    <tr>\n",
       "      <th>3</th>\n",
       "      <td>Customer_0</td>\n",
       "      <td>asics</td>\n",
       "      <td>1</td>\n",
       "    </tr>\n",
       "    <tr>\n",
       "      <th>4</th>\n",
       "      <td>Customer_0</td>\n",
       "      <td>autozone</td>\n",
       "      <td>2</td>\n",
       "    </tr>\n",
       "  </tbody>\n",
       "</table>\n",
       "</div>"
      ],
      "text/plain": [
       "  Customer_id            Brand  Count\n",
       "0  Customer_0    altar'd state      1\n",
       "1  Customer_0  ann taylor loft      1\n",
       "2  Customer_0           armani      1\n",
       "3  Customer_0            asics      1\n",
       "4  Customer_0         autozone      2"
      ]
     },
     "execution_count": 9,
     "metadata": {},
     "output_type": "execute_result"
    }
   ],
   "source": [
    "transactions.head(5)"
   ]
  },
  {
   "cell_type": "code",
   "execution_count": 11,
   "metadata": {},
   "outputs": [
    {
     "data": {
      "text/plain": [
       "625"
      ]
     },
     "execution_count": 11,
     "metadata": {},
     "output_type": "execute_result"
    }
   ],
   "source": [
    "transactions[\"Brand\"].nunique()  #625 Brands are there"
   ]
  },
  {
   "cell_type": "code",
   "execution_count": 12,
   "metadata": {},
   "outputs": [],
   "source": [
    "Brand_List=list(set(transactions[\"Brand\"]))"
   ]
  },
  {
   "cell_type": "code",
   "execution_count": 29,
   "metadata": {},
   "outputs": [],
   "source": [
    "enum=enumerate(Brand_List)\n",
    "brand_dict=dict((j,i) for i,j in enum)"
   ]
  },
  {
   "cell_type": "code",
   "execution_count": 30,
   "metadata": {},
   "outputs": [
    {
     "data": {
      "text/plain": [
       "{'aamco': 0,\n",
       " 'sherwinwilliams': 1,\n",
       " 'hugo boss': 2,\n",
       " \"fry's electronics\": 3,\n",
       " 'radisson': 4,\n",
       " 'texas de brazil': 5,\n",
       " 'red robin': 6,\n",
       " 'dairy queen': 7,\n",
       " 'aeropostale': 8,\n",
       " 'advance auto parts, inc': 9,\n",
       " \"america's best contacts & eyeglasses\": 10,\n",
       " 'fendi': 11,\n",
       " 'long john silver': 12,\n",
       " 'bonobos': 13,\n",
       " \"wendy's\": 14,\n",
       " 'beacon roofing supply': 15,\n",
       " 'mod pizza': 16,\n",
       " 'la madeleine french cafe': 17,\n",
       " 'h-e-b': 18,\n",
       " 'kids foot locker': 19,\n",
       " 'american girl': 20,\n",
       " 'saks fifth avenue': 21,\n",
       " \"lands' end\": 22,\n",
       " 'pure barre': 23,\n",
       " \"jersey mike's subs\": 24,\n",
       " \"kriser's\": 25,\n",
       " 'sbarro': 26,\n",
       " 'four points by sheraton': 27,\n",
       " 'patagonia': 28,\n",
       " 'jamba juice': 29,\n",
       " '99 cent only stores': 30,\n",
       " 'budget car rental': 31,\n",
       " 'kwik kar': 32,\n",
       " 'clinique': 33,\n",
       " 'mac cosmetics': 34,\n",
       " 'carquest corporation': 35,\n",
       " 'bassett furniture': 36,\n",
       " 'canada goose': 37,\n",
       " 'hyatt regency': 38,\n",
       " 'christian brothers automotive': 39,\n",
       " 'charleys philly steaks': 40,\n",
       " 'walgreens': 41,\n",
       " 'cubesmart': 42,\n",
       " 'jiffy lube': 43,\n",
       " 'payless shoes': 44,\n",
       " 'texaco inc': 45,\n",
       " \"dickey's barbecue pit\": 46,\n",
       " '76': 47,\n",
       " 'stanley steemer': 48,\n",
       " '7-eleven': 49,\n",
       " 'california pizza kitchen at fashion place': 50,\n",
       " 'hotel indigo': 51,\n",
       " 'la quinta inn': 52,\n",
       " \"chili's grill & bar\": 53,\n",
       " 'americas best value inn': 54,\n",
       " \"leslie's swimming pool supplies\": 55,\n",
       " 'aloft hotels': 56,\n",
       " 'national car rental': 57,\n",
       " 'precision tune auto care': 58,\n",
       " 'cricket communications': 59,\n",
       " 'olive garden': 60,\n",
       " 'half price books': 61,\n",
       " 'aveda': 62,\n",
       " '24 hour fitness': 63,\n",
       " \"pappasito's cantina\": 64,\n",
       " 'total wine & more': 65,\n",
       " 'state farm': 66,\n",
       " 'harley davidson': 67,\n",
       " \"kohl's\": 68,\n",
       " 'pier 1 imports': 69,\n",
       " 'vince': 70,\n",
       " 'tuesday morning': 71,\n",
       " 'nordstrom': 72,\n",
       " 'lids': 73,\n",
       " 'rue 21': 74,\n",
       " 'central market': 75,\n",
       " 'hard rock cafe': 76,\n",
       " 'sleep inn & suites': 77,\n",
       " 'harbor freight tools': 78,\n",
       " 'smoothie king': 79,\n",
       " 'peter piper pizza': 80,\n",
       " 'spencer gifts': 81,\n",
       " \"marco's pizza\": 82,\n",
       " 'torrid': 83,\n",
       " 'equinox': 84,\n",
       " 'square': 85,\n",
       " 'mazda': 86,\n",
       " 'u-haul': 87,\n",
       " 'brandy melville': 88,\n",
       " 'sweetgreen': 89,\n",
       " 'oakley': 90,\n",
       " \"macy's backstage\": 91,\n",
       " 'sunbelt rentals': 92,\n",
       " 'econo lodge': 93,\n",
       " 'madewell': 94,\n",
       " 'boost worldwide, inc.': 95,\n",
       " \"carter's clothing\": 96,\n",
       " \"zoe's kitchen\": 97,\n",
       " 'lupe tortilla': 98,\n",
       " 'vans shoes': 99,\n",
       " \"p.f. chang's\": 100,\n",
       " 'interstate batteries': 101,\n",
       " 'club pilates': 102,\n",
       " 'best western inn': 103,\n",
       " \"logan's roadhouse\": 104,\n",
       " 'valvoline': 105,\n",
       " 'athleta': 106,\n",
       " 'panera bread': 107,\n",
       " 'verizon wireless': 108,\n",
       " 'rainbow shops': 109,\n",
       " 'fogo de chao': 110,\n",
       " 'shoe carnival': 111,\n",
       " 'bed bath & beyond': 112,\n",
       " 'club monaco': 113,\n",
       " \"chuy's\": 114,\n",
       " 'williams-sonoma': 115,\n",
       " 'bath and body works, llc': 116,\n",
       " 'hyatt house': 117,\n",
       " 'fast signs': 118,\n",
       " 'top golf': 119,\n",
       " 'big lots': 120,\n",
       " 'ramada international': 121,\n",
       " 'jw marriott hotels & resorts': 122,\n",
       " 'allsaints': 123,\n",
       " 'gen korean bbq': 124,\n",
       " \"children's place\": 125,\n",
       " 'lucky brand': 126,\n",
       " \"cavender's boot city\": 127,\n",
       " 'pilot travel centers llc': 128,\n",
       " 'the tile shop': 129,\n",
       " 'jenny craig': 130,\n",
       " 'valero': 131,\n",
       " 'build-a-bear workshop': 132,\n",
       " 'days inn worldwide, inc': 133,\n",
       " 'hyundai': 134,\n",
       " 'zumiez': 135,\n",
       " \"fleming's prime steakhouse & wine bar\": 136,\n",
       " 'suitsupply': 137,\n",
       " \"fuzzy's taco shop\": 138,\n",
       " 'kay jewelers': 139,\n",
       " 'cole haan': 140,\n",
       " 'smartstyle': 141,\n",
       " \"raising cane's\": 142,\n",
       " 'el rancho supermercado': 143,\n",
       " 'ashley furniture': 144,\n",
       " 'hilton hotels': 145,\n",
       " 'once upon a child': 146,\n",
       " \"randall's food markets\": 147,\n",
       " \"dave & buster's\": 148,\n",
       " 'zara': 149,\n",
       " 'hyatt hotels': 150,\n",
       " 'sunoco inc.': 151,\n",
       " 'dollar tree stores': 152,\n",
       " 'ray-ban': 153,\n",
       " 'tropical smoothie cafe': 154,\n",
       " 'pappadeaux seafood kitchen': 155,\n",
       " 'outback steakhouse': 156,\n",
       " \"casey's general store, inc\": 157,\n",
       " 'sysco foodservice': 158,\n",
       " 'banana republic factory store': 159,\n",
       " 'worldpac, inc': 160,\n",
       " \"macy's\": 161,\n",
       " 'dsw shoes': 162,\n",
       " 'mathnasium': 163,\n",
       " 'holiday inn hotels': 164,\n",
       " 'the cheesecake factory': 165,\n",
       " 'la fitness': 166,\n",
       " 'true value': 167,\n",
       " 'gulf oil': 168,\n",
       " \"francesca's\": 169,\n",
       " 'gap': 170,\n",
       " 'curio': 171,\n",
       " 'ford': 172,\n",
       " 'valvoline instant oil change': 173,\n",
       " 'baymont inn & suites': 174,\n",
       " 'candlewood hotel company, inc': 175,\n",
       " 'dos caminos': 176,\n",
       " 'michelin tires': 177,\n",
       " \"newk's express cafe\": 178,\n",
       " 'tribute': 179,\n",
       " 'christian dior': 180,\n",
       " 'prada': 181,\n",
       " 'hollister': 182,\n",
       " 'first american home warranty': 183,\n",
       " 'starbucks': 184,\n",
       " 'two men and a truck': 185,\n",
       " 'ace hardware': 186,\n",
       " 'apple stores': 187,\n",
       " 'pearle vision': 188,\n",
       " 'homegoods': 189,\n",
       " 'autograph collection hotels': 190,\n",
       " 'super 8 motel': 191,\n",
       " 'gamestop': 192,\n",
       " 'skechers': 193,\n",
       " 'janie and jack': 194,\n",
       " \"domino's pizza\": 195,\n",
       " 'gnc': 196,\n",
       " 'edible arrangements': 197,\n",
       " 'seasons 52': 198,\n",
       " \"schlotzsky's\": 199,\n",
       " 'best western plus': 200,\n",
       " 'michael kors': 201,\n",
       " 'kroger': 202,\n",
       " \"popeye's chicken\": 203,\n",
       " 'at home': 204,\n",
       " 'versace': 205,\n",
       " 'champs sports': 206,\n",
       " 'mellow mushroom': 207,\n",
       " 'fedex office print & ship center': 208,\n",
       " 'parkmobile': 209,\n",
       " 'tire rack': 210,\n",
       " \"church's chicken\": 211,\n",
       " 'lazy dog cafe': 212,\n",
       " 'yankee candle': 213,\n",
       " 'drybar': 214,\n",
       " \"altar'd state\": 215,\n",
       " 'the melting pot': 216,\n",
       " 'iberia': 217,\n",
       " 'great wall supermarkets': 218,\n",
       " 'adidas': 219,\n",
       " 'barnes & noble': 220,\n",
       " 'finish line': 221,\n",
       " 'coach': 222,\n",
       " 'longhorn steakhouse': 223,\n",
       " 'wingstop': 224,\n",
       " 'tj maxx': 225,\n",
       " 'jack in the box': 226,\n",
       " 'midas, inc': 227,\n",
       " 'quality inn & suites': 228,\n",
       " 'pottery barn': 229,\n",
       " 'texas roadhouse': 230,\n",
       " 'tillys': 231,\n",
       " 'burlington stores, inc.': 232,\n",
       " 'lush cosmetics': 233,\n",
       " \"hungry howie's\": 234,\n",
       " 'the container store': 235,\n",
       " 'redbox': 236,\n",
       " \"eddie v's prime seafood\": 237,\n",
       " 'avis car rental': 238,\n",
       " 'black bear': 239,\n",
       " 'shoe show': 240,\n",
       " 'mastro`s restaurants llc': 241,\n",
       " 'country inns & suites by carlson': 242,\n",
       " 'westin hotel': 243,\n",
       " 'disney stores worldwide': 244,\n",
       " 'chick-fil-a': 245,\n",
       " 'neiman marcus group': 246,\n",
       " 'restaurant depot': 247,\n",
       " 'hertz': 248,\n",
       " 'saltgrass steakhouse': 249,\n",
       " 'raceway': 250,\n",
       " 'staples': 251,\n",
       " 'costco': 252,\n",
       " 'element': 253,\n",
       " \"plato's closet\": 254,\n",
       " 'ross': 255,\n",
       " 'west elm, inc.': 256,\n",
       " 'builders firstsource': 257,\n",
       " 'new balance': 258,\n",
       " 'sarku': 259,\n",
       " 'abercrombie & fitch': 260,\n",
       " 'sephora usa inc.': 261,\n",
       " 'fleet feet sports': 262,\n",
       " 'ymca': 263,\n",
       " 'great clips': 264,\n",
       " 'hooters': 265,\n",
       " \"lowe's\": 266,\n",
       " 'bp': 267,\n",
       " 'cinemark': 268,\n",
       " \"carrabba's italian grill\": 269,\n",
       " \"mcalister's deli\": 270,\n",
       " 'lifetime fitness': 271,\n",
       " 'marshalls': 272,\n",
       " 'murphy gas usa': 273,\n",
       " 'in-n-out burger': 274,\n",
       " \"chico's\": 275,\n",
       " 'holiday inn express': 276,\n",
       " 'shell': 277,\n",
       " 'lincoln motor company': 278,\n",
       " 'camp bow wow': 279,\n",
       " 'jimmy johns': 280,\n",
       " 'golf galaxy inc': 281,\n",
       " \"rudy's bbq\": 282,\n",
       " 'arhaus': 283,\n",
       " 'best buy': 284,\n",
       " 'louis vuitton': 285,\n",
       " 'take 5 oil change': 286,\n",
       " 'fossil': 287,\n",
       " 'h mart': 288,\n",
       " 'united airlines': 289,\n",
       " 'boot barn': 290,\n",
       " 'bluemercury inc': 291,\n",
       " 'cosmoprof': 292,\n",
       " 'ferguson enterprises': 293,\n",
       " 'childtime': 294,\n",
       " 'crowne plaza hotels & resorts': 295,\n",
       " 'cvs pharmacy': 296,\n",
       " 'sleep number': 297,\n",
       " 'chipotle mexican grill': 298,\n",
       " 'justice retail': 299,\n",
       " \"j. alexander's\": 300,\n",
       " 'urban outfitters': 301,\n",
       " 'sam ash music': 302,\n",
       " 'cartier': 303,\n",
       " 'intermix': 304,\n",
       " 'bmw group': 305,\n",
       " 'design within reach': 306,\n",
       " 'goodwill': 307,\n",
       " 'phillips 66': 308,\n",
       " 'circle k': 309,\n",
       " 'family dollar': 310,\n",
       " 'studio movie grill': 311,\n",
       " 'krispy kreme': 312,\n",
       " 'visionworks': 313,\n",
       " 'ac hotels': 314,\n",
       " 'la petite academy': 315,\n",
       " 'A&W Restaurants': 316,\n",
       " 'guitar center': 317,\n",
       " 'carpet one': 318,\n",
       " 'casper sleep': 319,\n",
       " 'h&m': 320,\n",
       " 'wyndham hotels & resorts': 321,\n",
       " 'conocophillips': 322,\n",
       " 'wingate inn': 323,\n",
       " \"hardee's\": 324,\n",
       " 'courtyard by marriott': 325,\n",
       " 'red wing shoes': 326,\n",
       " 'renaissance hotel': 327,\n",
       " 'mattress firm': 328,\n",
       " \"victoria's secret stores llc\": 329,\n",
       " 'comfort inn and suites': 330,\n",
       " 'laz parking': 331,\n",
       " 'le meridien': 332,\n",
       " 'benihana': 333,\n",
       " 'burberry': 334,\n",
       " 'j. crew factory': 335,\n",
       " 'intown suites': 336,\n",
       " 'whole foods market': 337,\n",
       " 'crocs': 338,\n",
       " 'rooms to go': 339,\n",
       " 'knights inn': 340,\n",
       " 'journeys': 341,\n",
       " 'fastenal': 342,\n",
       " 'pei wei asian diner': 343,\n",
       " 'red lobster': 344,\n",
       " 'the oceanaire': 345,\n",
       " 'fairfield inn & suites': 346,\n",
       " 'foot locker': 347,\n",
       " 'united parcel service': 348,\n",
       " 'travelodge inn&stes': 349,\n",
       " 'au bon pain': 350,\n",
       " 'the dump': 351,\n",
       " 'microtel inn & suites': 352,\n",
       " 'pluckers wing bar': 353,\n",
       " \"o'reilly auto parts\": 354,\n",
       " \"dd's discounts\": 355,\n",
       " 'genghis grill': 356,\n",
       " 'origins natural resources, inc.': 357,\n",
       " 'smashburger': 358,\n",
       " \"trader joe's\": 359,\n",
       " 'charlotte russe': 360,\n",
       " \"aaron's\": 361,\n",
       " 'embassy suites': 362,\n",
       " 'brio tuscan grille': 363,\n",
       " 'super cuts': 364,\n",
       " 'lacoste': 365,\n",
       " 'ultra mobile': 366,\n",
       " 'estee lauder': 367,\n",
       " 'lane bryant': 368,\n",
       " 'floor and decor outlets of america': 369,\n",
       " 'famous footwear': 370,\n",
       " 'five guys burgers and fries': 371,\n",
       " 'national tire and battery': 372,\n",
       " 'motel 6': 373,\n",
       " 'citgo petroleum corporation': 374,\n",
       " 'anytime fitness': 375,\n",
       " 'ulta': 376,\n",
       " 'rci (resort condominiums international)': 377,\n",
       " 'cotton on': 378,\n",
       " 'tory burch': 379,\n",
       " 'golden chick': 380,\n",
       " 'exxonmobil': 381,\n",
       " \"dillard's\": 382,\n",
       " 'residence inn': 383,\n",
       " 'taco bell': 384,\n",
       " \"jason's deli\": 385,\n",
       " 'steve madden': 386,\n",
       " 'timewise': 387,\n",
       " 'cleaning authority, the': 388,\n",
       " 'ben bridge jeweler': 389,\n",
       " \"dunkin' donuts\": 390,\n",
       " 'express': 391,\n",
       " \"denny's\": 392,\n",
       " 'doubletree hotels': 393,\n",
       " \"vic and anthony's steakhouse\": 394,\n",
       " 'hibbett sports': 395,\n",
       " 'abc supply co.': 396,\n",
       " 'united rentals': 397,\n",
       " 'jc penney': 398,\n",
       " 'james avery jewelry': 399,\n",
       " 'spirit halloween': 400,\n",
       " 'comcast telecommunications, inc.': 401,\n",
       " 'johnston & murphy': 402,\n",
       " 'under armour': 403,\n",
       " 'preferred hotel group': 404,\n",
       " 'la griglia restaurant': 405,\n",
       " 'forever 21': 406,\n",
       " 'amtrak': 407,\n",
       " 'tiffany': 408,\n",
       " 'gucci': 409,\n",
       " 'batteries plus': 410,\n",
       " 'goodyear': 411,\n",
       " 'kate spade': 412,\n",
       " 'aldo shoes': 413,\n",
       " 'molly maid': 414,\n",
       " 'talbots inc': 415,\n",
       " 'hallmark': 416,\n",
       " 'jpmorgan chase bank, n.a.': 417,\n",
       " \"love's country store\": 418,\n",
       " 'timberland': 419,\n",
       " 'free people': 420,\n",
       " 'the home depot': 421,\n",
       " \"arby's\": 422,\n",
       " 't-mobile': 423,\n",
       " 'j.jill': 424,\n",
       " 'hermes': 425,\n",
       " 'ralph lauren': 426,\n",
       " 'homewood suites': 427,\n",
       " 'grease monkey': 428,\n",
       " 'lakeshore learning materials': 429,\n",
       " 'five below': 430,\n",
       " 'gap outlet': 431,\n",
       " 'burger king worldwide, inc.': 432,\n",
       " 'dhl': 433,\n",
       " 'staybridge suites': 434,\n",
       " 'tgi fridays': 435,\n",
       " 'corner bakery cafe': 436,\n",
       " 'at&t store': 437,\n",
       " 'sur la table': 438,\n",
       " '1-800-flowers': 439,\n",
       " 'ritz carlton hotels': 440,\n",
       " \"l'occitane\": 441,\n",
       " 'fuddruckers': 442,\n",
       " 'blink fitness': 443,\n",
       " 'us cellular': 444,\n",
       " 'la michoacana meat market': 445,\n",
       " 'ann taylor loft': 446,\n",
       " 'northern tool + equipment': 447,\n",
       " 'true food kitchen': 448,\n",
       " 'four seasons hotel': 449,\n",
       " 'columbia sportswear': 450,\n",
       " 'new york & company': 451,\n",
       " 'pollo campero': 452,\n",
       " 'planet fitness': 453,\n",
       " 'the north face': 454,\n",
       " 'tommy bahama': 455,\n",
       " \"dick's sporting goods\": 456,\n",
       " 'cycle gear': 457,\n",
       " 'citi trends': 458,\n",
       " 'anthropologie': 459,\n",
       " 'ann inc.': 460,\n",
       " 'panda express': 461,\n",
       " 'dress barn': 462,\n",
       " 'weight watchers': 463,\n",
       " 'hyatt place': 464,\n",
       " 'aldi foods': 465,\n",
       " 'wells fargo': 466,\n",
       " 'micro center': 467,\n",
       " 'california closets': 468,\n",
       " 'old navy': 469,\n",
       " 'whataburger': 470,\n",
       " 'boston market corporation': 471,\n",
       " 'merry maids': 472,\n",
       " 'petco animal supplies, inc.': 473,\n",
       " 'the vitamin shoppe': 474,\n",
       " 'euromarket designs inc.': 475,\n",
       " 'windsor': 476,\n",
       " 'hilton garden inn': 477,\n",
       " \"see's candies\": 478,\n",
       " 'extended stay hotels': 479,\n",
       " 'the joint': 480,\n",
       " 'h&r block': 481,\n",
       " 'neiman marcus last call': 482,\n",
       " 'box lunch': 483,\n",
       " 'soma intimates': 484,\n",
       " 'extra space': 485,\n",
       " 'crossfit': 486,\n",
       " 'baskin-robbins': 487,\n",
       " 'petsmart': 488,\n",
       " 'pods': 489,\n",
       " 'hot topic, inc.': 490,\n",
       " 'discount tire co.': 491,\n",
       " 'american eagle store': 492,\n",
       " 'fiesta mart': 493,\n",
       " 'gordon food service': 494,\n",
       " 'public storage': 495,\n",
       " 'sprouts farmers market': 496,\n",
       " 'liberty mutual': 497,\n",
       " 'soul cycle': 498,\n",
       " 'vera bradley': 499,\n",
       " 'lilly pulitzer': 500,\n",
       " 'gyu-kaku': 501,\n",
       " 'the buckle': 502,\n",
       " 'fedex': 503,\n",
       " 'banana republic': 504,\n",
       " 'helzberg diamonds': 505,\n",
       " 'ferrellgas': 506,\n",
       " 'banfield pet hospital': 507,\n",
       " 'sonic drive-in': 508,\n",
       " \"auntie anne's pretzels\": 509,\n",
       " 'hampton by hilton': 510,\n",
       " \"torchy's tacos\": 511,\n",
       " 'rodeway inn': 512,\n",
       " 'massage envy': 513,\n",
       " 'warby parker': 514,\n",
       " \"cici's pizza\": 515,\n",
       " \"ruth's chris steak house\": 516,\n",
       " 'firehouse subs': 517,\n",
       " 'golden corral': 518,\n",
       " 'sally beauty': 519,\n",
       " 'ethan allen': 520,\n",
       " 'chevron': 521,\n",
       " 'howard johnson': 522,\n",
       " 'swarovski crystallized': 523,\n",
       " 'buybuy baby': 524,\n",
       " 'enterprise rent-a-car': 525,\n",
       " 'pep boys': 526,\n",
       " 'pet supermarket': 527,\n",
       " 'shake shack': 528,\n",
       " 'target': 529,\n",
       " 'blaze pizza': 530,\n",
       " 'pet supplies plus': 531,\n",
       " 'academy sports + outdoors': 532,\n",
       " 'cummins': 533,\n",
       " 'buffalo wild wings': 534,\n",
       " 'mcdonalds': 535,\n",
       " 'cash america international': 536,\n",
       " 'buca di beppo': 537,\n",
       " 'clarks usa': 538,\n",
       " \"morton's the steakhouse\": 539,\n",
       " 'st. regis hotels': 540,\n",
       " 'lenscrafters': 541,\n",
       " 'david yurman': 542,\n",
       " 'waffle house': 543,\n",
       " 'chickensalad chick': 544,\n",
       " 'party city': 545,\n",
       " \"luby's\": 546,\n",
       " 'sheraton hotel': 547,\n",
       " 'orkin': 548,\n",
       " 'grotto': 549,\n",
       " 'pella windows and doors': 550,\n",
       " \"maggiano's little italy\": 551,\n",
       " \"david's bridal\": 552,\n",
       " 'armstrong mccall, l.p.': 553,\n",
       " 'hobby lobby': 554,\n",
       " 'whirlpool': 555,\n",
       " 'kfc': 556,\n",
       " 'aritzia clothing': 557,\n",
       " 'little caesars pizza': 558,\n",
       " 'armani': 559,\n",
       " 'chanel': 560,\n",
       " 'urban air': 561,\n",
       " 'inter ikea systems b.v.': 562,\n",
       " \"captain d's\": 563,\n",
       " 'cost plus world market': 564,\n",
       " 'la-z-boy': 565,\n",
       " 'springhill suites': 566,\n",
       " 'home2 suites by hilton': 567,\n",
       " 'sprint': 568,\n",
       " 'mister car wash': 569,\n",
       " 'the parking spot': 570,\n",
       " 'peterbilt rentals': 571,\n",
       " 'intercontinental hotels & resorts': 572,\n",
       " 'herc rentals': 573,\n",
       " 'walmart': 574,\n",
       " 'chicken express': 575,\n",
       " 'joann fabrics': 576,\n",
       " 'european wax center': 577,\n",
       " 'asics': 578,\n",
       " 'autozone': 579,\n",
       " 'taco cabana': 580,\n",
       " 'hand & stone massage and facial spa': 581,\n",
       " 'cracker barrel old country store': 582,\n",
       " 'amazing lash studio': 583,\n",
       " '99 ranch market': 584,\n",
       " \"cheddar's scratch kitchen\": 585,\n",
       " 'orange theory fitness': 586,\n",
       " 'j.crew': 587,\n",
       " 'rejuvenation': 588,\n",
       " 'stein mart': 589,\n",
       " 'morphe cosmetics': 590,\n",
       " 'sunglass hut': 591,\n",
       " \"peet's coffee & tea\": 592,\n",
       " 'carmax': 593,\n",
       " 'subway': 594,\n",
       " 'marriott hotels': 595,\n",
       " 'theory': 596,\n",
       " 'jollibee': 597,\n",
       " \"kirkland's\": 598,\n",
       " 'petland': 599,\n",
       " \"zaxby's\": 600,\n",
       " 'dollar general': 601,\n",
       " 'yard house': 602,\n",
       " 'kendra scott': 603,\n",
       " 'towne place': 604,\n",
       " 'comcast': 605,\n",
       " 'checkers': 606,\n",
       " 'sun & ski sports': 607,\n",
       " 'napa auto parts': 608,\n",
       " 'sport clips haircuts': 609,\n",
       " 'tru by hilton': 610,\n",
       " 'the capital grille': 611,\n",
       " 'el pollo loco': 612,\n",
       " 'pizza hut': 613,\n",
       " 'bonchon chicken': 614,\n",
       " 'chevrolet': 615,\n",
       " 'jared the galleria of jewelry': 616,\n",
       " 'carhartt': 617,\n",
       " 'nordstrom rack': 618,\n",
       " 'vca animal hospitals': 619,\n",
       " 'brooks brothers': 620,\n",
       " 'footaction': 621,\n",
       " 'twin peaks': 622,\n",
       " 'rack room shoes': 623,\n",
       " 'potbelly sandwich shop': 624}"
      ]
     },
     "execution_count": 30,
     "metadata": {},
     "output_type": "execute_result"
    }
   ],
   "source": [
    "brand_dict"
   ]
  },
  {
   "cell_type": "code",
   "execution_count": 31,
   "metadata": {},
   "outputs": [],
   "source": [
    "def convertBrandID(x):\n",
    "    return brand_dict[x]"
   ]
  },
  {
   "cell_type": "code",
   "execution_count": 32,
   "metadata": {},
   "outputs": [],
   "source": [
    "transactions[\"products\"]=transactions[\"Brand\"].apply(convertBrandID)"
   ]
  },
  {
   "cell_type": "code",
   "execution_count": 33,
   "metadata": {},
   "outputs": [
    {
     "data": {
      "text/html": [
       "<div>\n",
       "<style scoped>\n",
       "    .dataframe tbody tr th:only-of-type {\n",
       "        vertical-align: middle;\n",
       "    }\n",
       "\n",
       "    .dataframe tbody tr th {\n",
       "        vertical-align: top;\n",
       "    }\n",
       "\n",
       "    .dataframe thead th {\n",
       "        text-align: right;\n",
       "    }\n",
       "</style>\n",
       "<table border=\"1\" class=\"dataframe\">\n",
       "  <thead>\n",
       "    <tr style=\"text-align: right;\">\n",
       "      <th></th>\n",
       "      <th>Customer_id</th>\n",
       "      <th>Brand</th>\n",
       "      <th>Count</th>\n",
       "      <th>products</th>\n",
       "    </tr>\n",
       "  </thead>\n",
       "  <tbody>\n",
       "    <tr>\n",
       "      <th>0</th>\n",
       "      <td>Customer_0</td>\n",
       "      <td>altar'd state</td>\n",
       "      <td>1</td>\n",
       "      <td>215</td>\n",
       "    </tr>\n",
       "    <tr>\n",
       "      <th>1</th>\n",
       "      <td>Customer_0</td>\n",
       "      <td>ann taylor loft</td>\n",
       "      <td>1</td>\n",
       "      <td>446</td>\n",
       "    </tr>\n",
       "    <tr>\n",
       "      <th>2</th>\n",
       "      <td>Customer_0</td>\n",
       "      <td>armani</td>\n",
       "      <td>1</td>\n",
       "      <td>559</td>\n",
       "    </tr>\n",
       "    <tr>\n",
       "      <th>3</th>\n",
       "      <td>Customer_0</td>\n",
       "      <td>asics</td>\n",
       "      <td>1</td>\n",
       "      <td>578</td>\n",
       "    </tr>\n",
       "    <tr>\n",
       "      <th>4</th>\n",
       "      <td>Customer_0</td>\n",
       "      <td>autozone</td>\n",
       "      <td>2</td>\n",
       "      <td>579</td>\n",
       "    </tr>\n",
       "    <tr>\n",
       "      <th>5</th>\n",
       "      <td>Customer_0</td>\n",
       "      <td>avis car rental</td>\n",
       "      <td>1</td>\n",
       "      <td>238</td>\n",
       "    </tr>\n",
       "    <tr>\n",
       "      <th>6</th>\n",
       "      <td>Customer_0</td>\n",
       "      <td>best buy</td>\n",
       "      <td>1</td>\n",
       "      <td>284</td>\n",
       "    </tr>\n",
       "    <tr>\n",
       "      <th>7</th>\n",
       "      <td>Customer_0</td>\n",
       "      <td>big lots</td>\n",
       "      <td>2</td>\n",
       "      <td>120</td>\n",
       "    </tr>\n",
       "    <tr>\n",
       "      <th>8</th>\n",
       "      <td>Customer_0</td>\n",
       "      <td>bmw group</td>\n",
       "      <td>1</td>\n",
       "      <td>305</td>\n",
       "    </tr>\n",
       "    <tr>\n",
       "      <th>9</th>\n",
       "      <td>Customer_0</td>\n",
       "      <td>boost worldwide, inc.</td>\n",
       "      <td>5</td>\n",
       "      <td>95</td>\n",
       "    </tr>\n",
       "  </tbody>\n",
       "</table>\n",
       "</div>"
      ],
      "text/plain": [
       "  Customer_id                  Brand  Count  products\n",
       "0  Customer_0          altar'd state      1       215\n",
       "1  Customer_0        ann taylor loft      1       446\n",
       "2  Customer_0                 armani      1       559\n",
       "3  Customer_0                  asics      1       578\n",
       "4  Customer_0               autozone      2       579\n",
       "5  Customer_0        avis car rental      1       238\n",
       "6  Customer_0               best buy      1       284\n",
       "7  Customer_0               big lots      2       120\n",
       "8  Customer_0              bmw group      1       305\n",
       "9  Customer_0  boost worldwide, inc.      5        95"
      ]
     },
     "execution_count": 33,
     "metadata": {},
     "output_type": "execute_result"
    }
   ],
   "source": [
    "transactions.head(10)"
   ]
  },
  {
   "cell_type": "code",
   "execution_count": 34,
   "metadata": {},
   "outputs": [],
   "source": [
    "transactions.columns=[\"customerId\",\"Brand\",\"purchase_count\",\"productId\"]"
   ]
  },
  {
   "cell_type": "code",
   "execution_count": 35,
   "metadata": {},
   "outputs": [],
   "source": [
    "data=transactions"
   ]
  },
  {
   "cell_type": "code",
   "execution_count": 36,
   "metadata": {},
   "outputs": [
    {
     "name": "stdout",
     "output_type": "stream",
     "text": [
      "(105101, 4)\n"
     ]
    },
    {
     "data": {
      "text/html": [
       "<div>\n",
       "<style scoped>\n",
       "    .dataframe tbody tr th:only-of-type {\n",
       "        vertical-align: middle;\n",
       "    }\n",
       "\n",
       "    .dataframe tbody tr th {\n",
       "        vertical-align: top;\n",
       "    }\n",
       "\n",
       "    .dataframe thead th {\n",
       "        text-align: right;\n",
       "    }\n",
       "</style>\n",
       "<table border=\"1\" class=\"dataframe\">\n",
       "  <thead>\n",
       "    <tr style=\"text-align: right;\">\n",
       "      <th></th>\n",
       "      <th>customerId</th>\n",
       "      <th>Brand</th>\n",
       "      <th>purchase_count</th>\n",
       "      <th>productId</th>\n",
       "    </tr>\n",
       "  </thead>\n",
       "  <tbody>\n",
       "    <tr>\n",
       "      <th>0</th>\n",
       "      <td>Customer_0</td>\n",
       "      <td>altar'd state</td>\n",
       "      <td>1</td>\n",
       "      <td>215</td>\n",
       "    </tr>\n",
       "    <tr>\n",
       "      <th>1</th>\n",
       "      <td>Customer_0</td>\n",
       "      <td>ann taylor loft</td>\n",
       "      <td>1</td>\n",
       "      <td>446</td>\n",
       "    </tr>\n",
       "    <tr>\n",
       "      <th>2</th>\n",
       "      <td>Customer_0</td>\n",
       "      <td>armani</td>\n",
       "      <td>1</td>\n",
       "      <td>559</td>\n",
       "    </tr>\n",
       "    <tr>\n",
       "      <th>3</th>\n",
       "      <td>Customer_0</td>\n",
       "      <td>asics</td>\n",
       "      <td>1</td>\n",
       "      <td>578</td>\n",
       "    </tr>\n",
       "    <tr>\n",
       "      <th>4</th>\n",
       "      <td>Customer_0</td>\n",
       "      <td>autozone</td>\n",
       "      <td>2</td>\n",
       "      <td>579</td>\n",
       "    </tr>\n",
       "  </tbody>\n",
       "</table>\n",
       "</div>"
      ],
      "text/plain": [
       "   customerId            Brand  purchase_count  productId\n",
       "0  Customer_0    altar'd state               1        215\n",
       "1  Customer_0  ann taylor loft               1        446\n",
       "2  Customer_0           armani               1        559\n",
       "3  Customer_0            asics               1        578\n",
       "4  Customer_0         autozone               2        579"
      ]
     },
     "execution_count": 36,
     "metadata": {},
     "output_type": "execute_result"
    }
   ],
   "source": [
    "print(data.shape)  # Which Customer purchased what and in what quantity\n",
    "data.head()"
   ]
  },
  {
   "cell_type": "code",
   "execution_count": 37,
   "metadata": {},
   "outputs": [],
   "source": [
    "def create_data_dummy(data):\n",
    "    data_dummy = data.copy()\n",
    "    data_dummy['purchase_dummy'] = 1\n",
    "    return data_dummy"
   ]
  },
  {
   "cell_type": "code",
   "execution_count": 38,
   "metadata": {},
   "outputs": [],
   "source": [
    "data_dummy = create_data_dummy(data)"
   ]
  },
  {
   "cell_type": "code",
   "execution_count": 39,
   "metadata": {},
   "outputs": [
    {
     "data": {
      "text/plain": [
       "(105101, 5)"
      ]
     },
     "execution_count": 39,
     "metadata": {},
     "output_type": "execute_result"
    }
   ],
   "source": [
    "data_dummy.shape"
   ]
  },
  {
   "cell_type": "code",
   "execution_count": 40,
   "metadata": {},
   "outputs": [
    {
     "data": {
      "text/html": [
       "<div>\n",
       "<style scoped>\n",
       "    .dataframe tbody tr th:only-of-type {\n",
       "        vertical-align: middle;\n",
       "    }\n",
       "\n",
       "    .dataframe tbody tr th {\n",
       "        vertical-align: top;\n",
       "    }\n",
       "\n",
       "    .dataframe thead th {\n",
       "        text-align: right;\n",
       "    }\n",
       "</style>\n",
       "<table border=\"1\" class=\"dataframe\">\n",
       "  <thead>\n",
       "    <tr style=\"text-align: right;\">\n",
       "      <th></th>\n",
       "      <th>customerId</th>\n",
       "      <th>Brand</th>\n",
       "      <th>purchase_count</th>\n",
       "      <th>productId</th>\n",
       "      <th>purchase_dummy</th>\n",
       "    </tr>\n",
       "  </thead>\n",
       "  <tbody>\n",
       "    <tr>\n",
       "      <th>0</th>\n",
       "      <td>Customer_0</td>\n",
       "      <td>altar'd state</td>\n",
       "      <td>1</td>\n",
       "      <td>215</td>\n",
       "      <td>1</td>\n",
       "    </tr>\n",
       "    <tr>\n",
       "      <th>1</th>\n",
       "      <td>Customer_0</td>\n",
       "      <td>ann taylor loft</td>\n",
       "      <td>1</td>\n",
       "      <td>446</td>\n",
       "      <td>1</td>\n",
       "    </tr>\n",
       "    <tr>\n",
       "      <th>2</th>\n",
       "      <td>Customer_0</td>\n",
       "      <td>armani</td>\n",
       "      <td>1</td>\n",
       "      <td>559</td>\n",
       "      <td>1</td>\n",
       "    </tr>\n",
       "    <tr>\n",
       "      <th>3</th>\n",
       "      <td>Customer_0</td>\n",
       "      <td>asics</td>\n",
       "      <td>1</td>\n",
       "      <td>578</td>\n",
       "      <td>1</td>\n",
       "    </tr>\n",
       "    <tr>\n",
       "      <th>4</th>\n",
       "      <td>Customer_0</td>\n",
       "      <td>autozone</td>\n",
       "      <td>2</td>\n",
       "      <td>579</td>\n",
       "      <td>1</td>\n",
       "    </tr>\n",
       "  </tbody>\n",
       "</table>\n",
       "</div>"
      ],
      "text/plain": [
       "   customerId            Brand  purchase_count  productId  purchase_dummy\n",
       "0  Customer_0    altar'd state               1        215               1\n",
       "1  Customer_0  ann taylor loft               1        446               1\n",
       "2  Customer_0           armani               1        559               1\n",
       "3  Customer_0            asics               1        578               1\n",
       "4  Customer_0         autozone               2        579               1"
      ]
     },
     "execution_count": 40,
     "metadata": {},
     "output_type": "execute_result"
    }
   ],
   "source": [
    "data_dummy.head(5) # Added 1 across every Item"
   ]
  },
  {
   "cell_type": "code",
   "execution_count": 42,
   "metadata": {},
   "outputs": [
    {
     "data": {
      "text/plain": [
       "625"
      ]
     },
     "execution_count": 42,
     "metadata": {},
     "output_type": "execute_result"
    }
   ],
   "source": [
    "data_dummy[\"productId\"].nunique() # There are 625 unique Items"
   ]
  },
  {
   "cell_type": "code",
   "execution_count": 43,
   "metadata": {},
   "outputs": [
    {
     "data": {
      "text/html": [
       "<div>\n",
       "<style scoped>\n",
       "    .dataframe tbody tr th:only-of-type {\n",
       "        vertical-align: middle;\n",
       "    }\n",
       "\n",
       "    .dataframe tbody tr th {\n",
       "        vertical-align: top;\n",
       "    }\n",
       "\n",
       "    .dataframe thead th {\n",
       "        text-align: right;\n",
       "    }\n",
       "</style>\n",
       "<table border=\"1\" class=\"dataframe\">\n",
       "  <thead>\n",
       "    <tr style=\"text-align: right;\">\n",
       "      <th>productId</th>\n",
       "      <th>0</th>\n",
       "      <th>1</th>\n",
       "      <th>2</th>\n",
       "      <th>3</th>\n",
       "      <th>4</th>\n",
       "      <th>5</th>\n",
       "      <th>6</th>\n",
       "      <th>7</th>\n",
       "      <th>8</th>\n",
       "      <th>9</th>\n",
       "      <th>...</th>\n",
       "      <th>615</th>\n",
       "      <th>616</th>\n",
       "      <th>617</th>\n",
       "      <th>618</th>\n",
       "      <th>619</th>\n",
       "      <th>620</th>\n",
       "      <th>621</th>\n",
       "      <th>622</th>\n",
       "      <th>623</th>\n",
       "      <th>624</th>\n",
       "    </tr>\n",
       "    <tr>\n",
       "      <th>customerId</th>\n",
       "      <th></th>\n",
       "      <th></th>\n",
       "      <th></th>\n",
       "      <th></th>\n",
       "      <th></th>\n",
       "      <th></th>\n",
       "      <th></th>\n",
       "      <th></th>\n",
       "      <th></th>\n",
       "      <th></th>\n",
       "      <th></th>\n",
       "      <th></th>\n",
       "      <th></th>\n",
       "      <th></th>\n",
       "      <th></th>\n",
       "      <th></th>\n",
       "      <th></th>\n",
       "      <th></th>\n",
       "      <th></th>\n",
       "      <th></th>\n",
       "      <th></th>\n",
       "    </tr>\n",
       "  </thead>\n",
       "  <tbody>\n",
       "    <tr>\n",
       "      <th>Customer_0</th>\n",
       "      <td>NaN</td>\n",
       "      <td>NaN</td>\n",
       "      <td>NaN</td>\n",
       "      <td>NaN</td>\n",
       "      <td>NaN</td>\n",
       "      <td>NaN</td>\n",
       "      <td>1.0</td>\n",
       "      <td>1.0</td>\n",
       "      <td>NaN</td>\n",
       "      <td>NaN</td>\n",
       "      <td>...</td>\n",
       "      <td>NaN</td>\n",
       "      <td>NaN</td>\n",
       "      <td>NaN</td>\n",
       "      <td>NaN</td>\n",
       "      <td>NaN</td>\n",
       "      <td>NaN</td>\n",
       "      <td>NaN</td>\n",
       "      <td>NaN</td>\n",
       "      <td>NaN</td>\n",
       "      <td>NaN</td>\n",
       "    </tr>\n",
       "    <tr>\n",
       "      <th>Customer_1</th>\n",
       "      <td>1.0</td>\n",
       "      <td>NaN</td>\n",
       "      <td>NaN</td>\n",
       "      <td>NaN</td>\n",
       "      <td>NaN</td>\n",
       "      <td>NaN</td>\n",
       "      <td>NaN</td>\n",
       "      <td>NaN</td>\n",
       "      <td>NaN</td>\n",
       "      <td>NaN</td>\n",
       "      <td>...</td>\n",
       "      <td>NaN</td>\n",
       "      <td>NaN</td>\n",
       "      <td>NaN</td>\n",
       "      <td>NaN</td>\n",
       "      <td>NaN</td>\n",
       "      <td>NaN</td>\n",
       "      <td>NaN</td>\n",
       "      <td>NaN</td>\n",
       "      <td>NaN</td>\n",
       "      <td>NaN</td>\n",
       "    </tr>\n",
       "    <tr>\n",
       "      <th>Customer_10</th>\n",
       "      <td>NaN</td>\n",
       "      <td>NaN</td>\n",
       "      <td>NaN</td>\n",
       "      <td>NaN</td>\n",
       "      <td>NaN</td>\n",
       "      <td>NaN</td>\n",
       "      <td>NaN</td>\n",
       "      <td>1.0</td>\n",
       "      <td>NaN</td>\n",
       "      <td>1.0</td>\n",
       "      <td>...</td>\n",
       "      <td>NaN</td>\n",
       "      <td>NaN</td>\n",
       "      <td>NaN</td>\n",
       "      <td>NaN</td>\n",
       "      <td>NaN</td>\n",
       "      <td>NaN</td>\n",
       "      <td>NaN</td>\n",
       "      <td>NaN</td>\n",
       "      <td>NaN</td>\n",
       "      <td>NaN</td>\n",
       "    </tr>\n",
       "    <tr>\n",
       "      <th>Customer_100</th>\n",
       "      <td>NaN</td>\n",
       "      <td>NaN</td>\n",
       "      <td>NaN</td>\n",
       "      <td>NaN</td>\n",
       "      <td>NaN</td>\n",
       "      <td>NaN</td>\n",
       "      <td>NaN</td>\n",
       "      <td>1.0</td>\n",
       "      <td>NaN</td>\n",
       "      <td>1.0</td>\n",
       "      <td>...</td>\n",
       "      <td>1.0</td>\n",
       "      <td>NaN</td>\n",
       "      <td>1.0</td>\n",
       "      <td>NaN</td>\n",
       "      <td>NaN</td>\n",
       "      <td>NaN</td>\n",
       "      <td>NaN</td>\n",
       "      <td>NaN</td>\n",
       "      <td>NaN</td>\n",
       "      <td>NaN</td>\n",
       "    </tr>\n",
       "    <tr>\n",
       "      <th>Customer_101</th>\n",
       "      <td>1.0</td>\n",
       "      <td>NaN</td>\n",
       "      <td>NaN</td>\n",
       "      <td>NaN</td>\n",
       "      <td>NaN</td>\n",
       "      <td>NaN</td>\n",
       "      <td>NaN</td>\n",
       "      <td>1.0</td>\n",
       "      <td>NaN</td>\n",
       "      <td>1.0</td>\n",
       "      <td>...</td>\n",
       "      <td>NaN</td>\n",
       "      <td>NaN</td>\n",
       "      <td>NaN</td>\n",
       "      <td>NaN</td>\n",
       "      <td>NaN</td>\n",
       "      <td>NaN</td>\n",
       "      <td>NaN</td>\n",
       "      <td>NaN</td>\n",
       "      <td>NaN</td>\n",
       "      <td>1.0</td>\n",
       "    </tr>\n",
       "  </tbody>\n",
       "</table>\n",
       "<p>5 rows × 625 columns</p>\n",
       "</div>"
      ],
      "text/plain": [
       "productId     0    1    2    3    4    5    6    7    8    9    ...  615  616  \\\n",
       "customerId                                                      ...             \n",
       "Customer_0    NaN  NaN  NaN  NaN  NaN  NaN  1.0  1.0  NaN  NaN  ...  NaN  NaN   \n",
       "Customer_1    1.0  NaN  NaN  NaN  NaN  NaN  NaN  NaN  NaN  NaN  ...  NaN  NaN   \n",
       "Customer_10   NaN  NaN  NaN  NaN  NaN  NaN  NaN  1.0  NaN  1.0  ...  NaN  NaN   \n",
       "Customer_100  NaN  NaN  NaN  NaN  NaN  NaN  NaN  1.0  NaN  1.0  ...  1.0  NaN   \n",
       "Customer_101  1.0  NaN  NaN  NaN  NaN  NaN  NaN  1.0  NaN  1.0  ...  NaN  NaN   \n",
       "\n",
       "productId     617  618  619  620  621  622  623  624  \n",
       "customerId                                            \n",
       "Customer_0    NaN  NaN  NaN  NaN  NaN  NaN  NaN  NaN  \n",
       "Customer_1    NaN  NaN  NaN  NaN  NaN  NaN  NaN  NaN  \n",
       "Customer_10   NaN  NaN  NaN  NaN  NaN  NaN  NaN  NaN  \n",
       "Customer_100  1.0  NaN  NaN  NaN  NaN  NaN  NaN  NaN  \n",
       "Customer_101  NaN  NaN  NaN  NaN  NaN  NaN  NaN  1.0  \n",
       "\n",
       "[5 rows x 625 columns]"
      ]
     },
     "execution_count": 43,
     "metadata": {},
     "output_type": "execute_result"
    }
   ],
   "source": [
    "df_matrix = pd.pivot_table(data, values='purchase_count', index='customerId', columns='productId')\n",
    "df_matrix.head()"
   ]
  },
  {
   "cell_type": "code",
   "execution_count": 44,
   "metadata": {},
   "outputs": [
    {
     "data": {
      "text/plain": [
       "(1000, 625)"
      ]
     },
     "execution_count": 44,
     "metadata": {},
     "output_type": "execute_result"
    }
   ],
   "source": [
    "df_matrix.shape"
   ]
  },
  {
   "cell_type": "code",
   "execution_count": 45,
   "metadata": {},
   "outputs": [
    {
     "name": "stdout",
     "output_type": "stream",
     "text": [
      "(1000, 625)\n"
     ]
    },
    {
     "data": {
      "text/html": [
       "<div>\n",
       "<style scoped>\n",
       "    .dataframe tbody tr th:only-of-type {\n",
       "        vertical-align: middle;\n",
       "    }\n",
       "\n",
       "    .dataframe tbody tr th {\n",
       "        vertical-align: top;\n",
       "    }\n",
       "\n",
       "    .dataframe thead th {\n",
       "        text-align: right;\n",
       "    }\n",
       "</style>\n",
       "<table border=\"1\" class=\"dataframe\">\n",
       "  <thead>\n",
       "    <tr style=\"text-align: right;\">\n",
       "      <th>productId</th>\n",
       "      <th>0</th>\n",
       "      <th>1</th>\n",
       "      <th>2</th>\n",
       "      <th>3</th>\n",
       "      <th>4</th>\n",
       "      <th>5</th>\n",
       "      <th>6</th>\n",
       "      <th>7</th>\n",
       "      <th>8</th>\n",
       "      <th>9</th>\n",
       "      <th>...</th>\n",
       "      <th>615</th>\n",
       "      <th>616</th>\n",
       "      <th>617</th>\n",
       "      <th>618</th>\n",
       "      <th>619</th>\n",
       "      <th>620</th>\n",
       "      <th>621</th>\n",
       "      <th>622</th>\n",
       "      <th>623</th>\n",
       "      <th>624</th>\n",
       "    </tr>\n",
       "    <tr>\n",
       "      <th>customerId</th>\n",
       "      <th></th>\n",
       "      <th></th>\n",
       "      <th></th>\n",
       "      <th></th>\n",
       "      <th></th>\n",
       "      <th></th>\n",
       "      <th></th>\n",
       "      <th></th>\n",
       "      <th></th>\n",
       "      <th></th>\n",
       "      <th></th>\n",
       "      <th></th>\n",
       "      <th></th>\n",
       "      <th></th>\n",
       "      <th></th>\n",
       "      <th></th>\n",
       "      <th></th>\n",
       "      <th></th>\n",
       "      <th></th>\n",
       "      <th></th>\n",
       "      <th></th>\n",
       "    </tr>\n",
       "  </thead>\n",
       "  <tbody>\n",
       "    <tr>\n",
       "      <th>Customer_0</th>\n",
       "      <td>NaN</td>\n",
       "      <td>NaN</td>\n",
       "      <td>NaN</td>\n",
       "      <td>NaN</td>\n",
       "      <td>NaN</td>\n",
       "      <td>NaN</td>\n",
       "      <td>NaN</td>\n",
       "      <td>0.0</td>\n",
       "      <td>NaN</td>\n",
       "      <td>NaN</td>\n",
       "      <td>...</td>\n",
       "      <td>NaN</td>\n",
       "      <td>NaN</td>\n",
       "      <td>NaN</td>\n",
       "      <td>NaN</td>\n",
       "      <td>NaN</td>\n",
       "      <td>NaN</td>\n",
       "      <td>NaN</td>\n",
       "      <td>NaN</td>\n",
       "      <td>NaN</td>\n",
       "      <td>NaN</td>\n",
       "    </tr>\n",
       "    <tr>\n",
       "      <th>Customer_1</th>\n",
       "      <td>0.0</td>\n",
       "      <td>NaN</td>\n",
       "      <td>NaN</td>\n",
       "      <td>NaN</td>\n",
       "      <td>NaN</td>\n",
       "      <td>NaN</td>\n",
       "      <td>NaN</td>\n",
       "      <td>NaN</td>\n",
       "      <td>NaN</td>\n",
       "      <td>NaN</td>\n",
       "      <td>...</td>\n",
       "      <td>NaN</td>\n",
       "      <td>NaN</td>\n",
       "      <td>NaN</td>\n",
       "      <td>NaN</td>\n",
       "      <td>NaN</td>\n",
       "      <td>NaN</td>\n",
       "      <td>NaN</td>\n",
       "      <td>NaN</td>\n",
       "      <td>NaN</td>\n",
       "      <td>NaN</td>\n",
       "    </tr>\n",
       "    <tr>\n",
       "      <th>Customer_10</th>\n",
       "      <td>NaN</td>\n",
       "      <td>NaN</td>\n",
       "      <td>NaN</td>\n",
       "      <td>NaN</td>\n",
       "      <td>NaN</td>\n",
       "      <td>NaN</td>\n",
       "      <td>NaN</td>\n",
       "      <td>0.0</td>\n",
       "      <td>NaN</td>\n",
       "      <td>0.0</td>\n",
       "      <td>...</td>\n",
       "      <td>NaN</td>\n",
       "      <td>NaN</td>\n",
       "      <td>NaN</td>\n",
       "      <td>NaN</td>\n",
       "      <td>NaN</td>\n",
       "      <td>NaN</td>\n",
       "      <td>NaN</td>\n",
       "      <td>NaN</td>\n",
       "      <td>NaN</td>\n",
       "      <td>NaN</td>\n",
       "    </tr>\n",
       "    <tr>\n",
       "      <th>Customer_100</th>\n",
       "      <td>NaN</td>\n",
       "      <td>NaN</td>\n",
       "      <td>NaN</td>\n",
       "      <td>NaN</td>\n",
       "      <td>NaN</td>\n",
       "      <td>NaN</td>\n",
       "      <td>NaN</td>\n",
       "      <td>0.0</td>\n",
       "      <td>NaN</td>\n",
       "      <td>0.0</td>\n",
       "      <td>...</td>\n",
       "      <td>0.0</td>\n",
       "      <td>NaN</td>\n",
       "      <td>0.0</td>\n",
       "      <td>NaN</td>\n",
       "      <td>NaN</td>\n",
       "      <td>NaN</td>\n",
       "      <td>NaN</td>\n",
       "      <td>NaN</td>\n",
       "      <td>NaN</td>\n",
       "      <td>NaN</td>\n",
       "    </tr>\n",
       "    <tr>\n",
       "      <th>Customer_101</th>\n",
       "      <td>0.0</td>\n",
       "      <td>NaN</td>\n",
       "      <td>NaN</td>\n",
       "      <td>NaN</td>\n",
       "      <td>NaN</td>\n",
       "      <td>NaN</td>\n",
       "      <td>NaN</td>\n",
       "      <td>0.0</td>\n",
       "      <td>NaN</td>\n",
       "      <td>0.0</td>\n",
       "      <td>...</td>\n",
       "      <td>NaN</td>\n",
       "      <td>NaN</td>\n",
       "      <td>NaN</td>\n",
       "      <td>NaN</td>\n",
       "      <td>NaN</td>\n",
       "      <td>NaN</td>\n",
       "      <td>NaN</td>\n",
       "      <td>NaN</td>\n",
       "      <td>NaN</td>\n",
       "      <td>0.0</td>\n",
       "    </tr>\n",
       "  </tbody>\n",
       "</table>\n",
       "<p>5 rows × 625 columns</p>\n",
       "</div>"
      ],
      "text/plain": [
       "productId     0    1    2    3    4    5    6    7    8    9    ...  615  616  \\\n",
       "customerId                                                      ...             \n",
       "Customer_0    NaN  NaN  NaN  NaN  NaN  NaN  NaN  0.0  NaN  NaN  ...  NaN  NaN   \n",
       "Customer_1    0.0  NaN  NaN  NaN  NaN  NaN  NaN  NaN  NaN  NaN  ...  NaN  NaN   \n",
       "Customer_10   NaN  NaN  NaN  NaN  NaN  NaN  NaN  0.0  NaN  0.0  ...  NaN  NaN   \n",
       "Customer_100  NaN  NaN  NaN  NaN  NaN  NaN  NaN  0.0  NaN  0.0  ...  0.0  NaN   \n",
       "Customer_101  0.0  NaN  NaN  NaN  NaN  NaN  NaN  0.0  NaN  0.0  ...  NaN  NaN   \n",
       "\n",
       "productId     617  618  619  620  621  622  623  624  \n",
       "customerId                                            \n",
       "Customer_0    NaN  NaN  NaN  NaN  NaN  NaN  NaN  NaN  \n",
       "Customer_1    NaN  NaN  NaN  NaN  NaN  NaN  NaN  NaN  \n",
       "Customer_10   NaN  NaN  NaN  NaN  NaN  NaN  NaN  NaN  \n",
       "Customer_100  0.0  NaN  NaN  NaN  NaN  NaN  NaN  NaN  \n",
       "Customer_101  NaN  NaN  NaN  NaN  NaN  NaN  NaN  0.0  \n",
       "\n",
       "[5 rows x 625 columns]"
      ]
     },
     "execution_count": 45,
     "metadata": {},
     "output_type": "execute_result"
    }
   ],
   "source": [
    "df_matrix_norm = (df_matrix-df_matrix.min())/(df_matrix.max()-df_matrix.min())\n",
    "print(df_matrix_norm.shape)\n",
    "df_matrix_norm.head()"
   ]
  },
  {
   "cell_type": "code",
   "execution_count": 46,
   "metadata": {},
   "outputs": [
    {
     "name": "stdout",
     "output_type": "stream",
     "text": [
      "(99938, 3)\n"
     ]
    },
    {
     "data": {
      "text/html": [
       "<div>\n",
       "<style scoped>\n",
       "    .dataframe tbody tr th:only-of-type {\n",
       "        vertical-align: middle;\n",
       "    }\n",
       "\n",
       "    .dataframe tbody tr th {\n",
       "        vertical-align: top;\n",
       "    }\n",
       "\n",
       "    .dataframe thead th {\n",
       "        text-align: right;\n",
       "    }\n",
       "</style>\n",
       "<table border=\"1\" class=\"dataframe\">\n",
       "  <thead>\n",
       "    <tr style=\"text-align: right;\">\n",
       "      <th></th>\n",
       "      <th>customerId</th>\n",
       "      <th>productId</th>\n",
       "      <th>scaled_purchase_freq</th>\n",
       "    </tr>\n",
       "  </thead>\n",
       "  <tbody>\n",
       "    <tr>\n",
       "      <th>1</th>\n",
       "      <td>Customer_1</td>\n",
       "      <td>0</td>\n",
       "      <td>0.0</td>\n",
       "    </tr>\n",
       "    <tr>\n",
       "      <th>4</th>\n",
       "      <td>Customer_101</td>\n",
       "      <td>0</td>\n",
       "      <td>0.0</td>\n",
       "    </tr>\n",
       "    <tr>\n",
       "      <th>14</th>\n",
       "      <td>Customer_110</td>\n",
       "      <td>0</td>\n",
       "      <td>0.0</td>\n",
       "    </tr>\n",
       "    <tr>\n",
       "      <th>15</th>\n",
       "      <td>Customer_111</td>\n",
       "      <td>0</td>\n",
       "      <td>0.0</td>\n",
       "    </tr>\n",
       "    <tr>\n",
       "      <th>22</th>\n",
       "      <td>Customer_118</td>\n",
       "      <td>0</td>\n",
       "      <td>0.0</td>\n",
       "    </tr>\n",
       "  </tbody>\n",
       "</table>\n",
       "</div>"
      ],
      "text/plain": [
       "      customerId productId  scaled_purchase_freq\n",
       "1     Customer_1         0                   0.0\n",
       "4   Customer_101         0                   0.0\n",
       "14  Customer_110         0                   0.0\n",
       "15  Customer_111         0                   0.0\n",
       "22  Customer_118         0                   0.0"
      ]
     },
     "execution_count": 46,
     "metadata": {},
     "output_type": "execute_result"
    }
   ],
   "source": [
    "# create a table for input to the modeling\n",
    "\n",
    "d = df_matrix_norm.reset_index()\n",
    "d.index.names = ['scaled_purchase_freq']\n",
    "data_norm = pd.melt(d, id_vars=['customerId'], value_name='scaled_purchase_freq').dropna()\n",
    "print(data_norm.shape)\n",
    "data_norm.head()"
   ]
  },
  {
   "cell_type": "markdown",
   "metadata": {},
   "source": [
    "#### Define a function for normalizing data"
   ]
  },
  {
   "cell_type": "code",
   "execution_count": 47,
   "metadata": {},
   "outputs": [],
   "source": [
    "def normalize_data(data):\n",
    "    df_matrix = pd.pivot_table(data, values='purchase_count', index='customerId', columns='productId')\n",
    "    df_matrix_norm = (df_matrix-df_matrix.min())/(df_matrix.max()-df_matrix.min())\n",
    "    d = df_matrix_norm.reset_index()\n",
    "    d.index.names = ['scaled_purchase_freq']\n",
    "    return pd.melt(d, id_vars=['customerId'], value_name='scaled_purchase_freq').dropna()"
   ]
  },
  {
   "cell_type": "markdown",
   "metadata": {},
   "source": [
    "* We can normalize the their purchase history, from 0-1 (with 1 being the most number of purchase for an item and 0 being 0 purchase count for that item)."
   ]
  },
  {
   "cell_type": "code",
   "execution_count": 48,
   "metadata": {},
   "outputs": [
    {
     "data": {
      "text/plain": [
       "(99938, 3)"
      ]
     },
     "execution_count": 48,
     "metadata": {},
     "output_type": "execute_result"
    }
   ],
   "source": [
    "data_norm.shape"
   ]
  },
  {
   "cell_type": "code",
   "execution_count": 49,
   "metadata": {},
   "outputs": [
    {
     "data": {
      "text/plain": [
       "(105101, 5)"
      ]
     },
     "execution_count": 49,
     "metadata": {},
     "output_type": "execute_result"
    }
   ],
   "source": [
    "data_dummy.shape"
   ]
  },
  {
   "cell_type": "code",
   "execution_count": 50,
   "metadata": {},
   "outputs": [],
   "source": [
    "# Using turicreate library, we convert dataframe to SFrame - this will be useful in the modeling part\n",
    "\n",
    "norm = tc.SFrame(data_norm)\n",
    "dummy=tc.SFrame(data_dummy)\n"
   ]
  },
  {
   "cell_type": "code",
   "execution_count": 65,
   "metadata": {},
   "outputs": [
    {
     "data": {
      "text/html": [
       "<div style=\"max-height:1000px;max-width:1500px;overflow:auto;\"><table frame=\"box\" rules=\"cols\">\n",
       "    <tr>\n",
       "        <th style=\"padding-left: 1em; padding-right: 1em; text-align: center\">customerId</th>\n",
       "        <th style=\"padding-left: 1em; padding-right: 1em; text-align: center\">productId</th>\n",
       "        <th style=\"padding-left: 1em; padding-right: 1em; text-align: center\">scaled_purchase_freq</th>\n",
       "    </tr>\n",
       "    <tr>\n",
       "        <td style=\"padding-left: 1em; padding-right: 1em; text-align: center; vertical-align: top\">Customer_1</td>\n",
       "        <td style=\"padding-left: 1em; padding-right: 1em; text-align: center; vertical-align: top\">0</td>\n",
       "        <td style=\"padding-left: 1em; padding-right: 1em; text-align: center; vertical-align: top\">0.0</td>\n",
       "    </tr>\n",
       "    <tr>\n",
       "        <td style=\"padding-left: 1em; padding-right: 1em; text-align: center; vertical-align: top\">Customer_101</td>\n",
       "        <td style=\"padding-left: 1em; padding-right: 1em; text-align: center; vertical-align: top\">0</td>\n",
       "        <td style=\"padding-left: 1em; padding-right: 1em; text-align: center; vertical-align: top\">0.0</td>\n",
       "    </tr>\n",
       "</table>\n",
       "[2 rows x 3 columns]<br/>\n",
       "</div>"
      ],
      "text/plain": [
       "Columns:\n",
       "\tcustomerId\tstr\n",
       "\tproductId\tint\n",
       "\tscaled_purchase_freq\tfloat\n",
       "\n",
       "Rows: 2\n",
       "\n",
       "Data:\n",
       "+--------------+-----------+----------------------+\n",
       "|  customerId  | productId | scaled_purchase_freq |\n",
       "+--------------+-----------+----------------------+\n",
       "|  Customer_1  |     0     |         0.0          |\n",
       "| Customer_101 |     0     |         0.0          |\n",
       "+--------------+-----------+----------------------+\n",
       "[2 rows x 3 columns]"
      ]
     },
     "execution_count": 65,
     "metadata": {},
     "output_type": "execute_result"
    }
   ],
   "source": [
    "norm.head(2)"
   ]
  },
  {
   "cell_type": "code",
   "execution_count": 55,
   "metadata": {},
   "outputs": [],
   "source": [
    "# variables to define field names\n",
    "user_id = 'customerId'\n",
    "item_id = 'productId'\n",
    "target = 'purchase_count'\n",
    "users_to_recommend = list(transactions['customerId'])\n",
    "n_rec = 5 # number of items to recommend\n",
    "n_display = 30"
   ]
  },
  {
   "cell_type": "code",
   "execution_count": 56,
   "metadata": {
    "scrolled": true
   },
   "outputs": [
    {
     "data": {
      "text/html": [
       "<pre>Warning: Ignoring columns Brand, purchase_dummy;</pre>"
      ],
      "text/plain": [
       "Warning: Ignoring columns Brand, purchase_dummy;"
      ]
     },
     "metadata": {},
     "output_type": "display_data"
    },
    {
     "data": {
      "text/html": [
       "<pre>    To use these columns in scoring predictions, use a model that allows the use of additional features.</pre>"
      ],
      "text/plain": [
       "    To use these columns in scoring predictions, use a model that allows the use of additional features."
      ]
     },
     "metadata": {},
     "output_type": "display_data"
    },
    {
     "data": {
      "text/html": [
       "<pre>Preparing data set.</pre>"
      ],
      "text/plain": [
       "Preparing data set."
      ]
     },
     "metadata": {},
     "output_type": "display_data"
    },
    {
     "data": {
      "text/html": [
       "<pre>    Data has 105101 observations with 1000 users and 625 items.</pre>"
      ],
      "text/plain": [
       "    Data has 105101 observations with 1000 users and 625 items."
      ]
     },
     "metadata": {},
     "output_type": "display_data"
    },
    {
     "data": {
      "text/html": [
       "<pre>    Data prepared in: 0.156679s</pre>"
      ],
      "text/plain": [
       "    Data prepared in: 0.156679s"
      ]
     },
     "metadata": {},
     "output_type": "display_data"
    },
    {
     "data": {
      "text/html": [
       "<pre>105101 observations to process; with 625 unique items.</pre>"
      ],
      "text/plain": [
       "105101 observations to process; with 625 unique items."
      ]
     },
     "metadata": {},
     "output_type": "display_data"
    }
   ],
   "source": [
    "popularity_model = tc.popularity_recommender.create(dummy, \n",
    "                                                    user_id=user_id, \n",
    "                                                    item_id=item_id, \n",
    "                                                    target=target)"
   ]
  },
  {
   "cell_type": "code",
   "execution_count": 57,
   "metadata": {},
   "outputs": [
    {
     "data": {
      "text/plain": [
       "105101"
      ]
     },
     "execution_count": 57,
     "metadata": {},
     "output_type": "execute_result"
    }
   ],
   "source": [
    "len(users_to_recommend)"
   ]
  },
  {
   "cell_type": "code",
   "execution_count": 58,
   "metadata": {},
   "outputs": [
    {
     "data": {
      "text/html": [
       "<pre>recommendations finished on 1000/105101 queries. users per second: 618429</pre>"
      ],
      "text/plain": [
       "recommendations finished on 1000/105101 queries. users per second: 618429"
      ]
     },
     "metadata": {},
     "output_type": "display_data"
    },
    {
     "data": {
      "text/html": [
       "<pre>recommendations finished on 2000/105101 queries. users per second: 715820</pre>"
      ],
      "text/plain": [
       "recommendations finished on 2000/105101 queries. users per second: 715820"
      ]
     },
     "metadata": {},
     "output_type": "display_data"
    },
    {
     "data": {
      "text/html": [
       "<pre>recommendations finished on 3000/105101 queries. users per second: 742207</pre>"
      ],
      "text/plain": [
       "recommendations finished on 3000/105101 queries. users per second: 742207"
      ]
     },
     "metadata": {},
     "output_type": "display_data"
    },
    {
     "data": {
      "text/html": [
       "<pre>recommendations finished on 4000/105101 queries. users per second: 762631</pre>"
      ],
      "text/plain": [
       "recommendations finished on 4000/105101 queries. users per second: 762631"
      ]
     },
     "metadata": {},
     "output_type": "display_data"
    },
    {
     "data": {
      "text/html": [
       "<pre>recommendations finished on 5000/105101 queries. users per second: 789640</pre>"
      ],
      "text/plain": [
       "recommendations finished on 5000/105101 queries. users per second: 789640"
      ]
     },
     "metadata": {},
     "output_type": "display_data"
    },
    {
     "data": {
      "text/html": [
       "<pre>recommendations finished on 6000/105101 queries. users per second: 817661</pre>"
      ],
      "text/plain": [
       "recommendations finished on 6000/105101 queries. users per second: 817661"
      ]
     },
     "metadata": {},
     "output_type": "display_data"
    },
    {
     "data": {
      "text/html": [
       "<pre>recommendations finished on 7000/105101 queries. users per second: 847047</pre>"
      ],
      "text/plain": [
       "recommendations finished on 7000/105101 queries. users per second: 847047"
      ]
     },
     "metadata": {},
     "output_type": "display_data"
    },
    {
     "data": {
      "text/html": [
       "<pre>recommendations finished on 8000/105101 queries. users per second: 851789</pre>"
      ],
      "text/plain": [
       "recommendations finished on 8000/105101 queries. users per second: 851789"
      ]
     },
     "metadata": {},
     "output_type": "display_data"
    },
    {
     "data": {
      "text/html": [
       "<pre>recommendations finished on 9000/105101 queries. users per second: 855107</pre>"
      ],
      "text/plain": [
       "recommendations finished on 9000/105101 queries. users per second: 855107"
      ]
     },
     "metadata": {},
     "output_type": "display_data"
    },
    {
     "data": {
      "text/html": [
       "<pre>recommendations finished on 10000/105101 queries. users per second: 839631</pre>"
      ],
      "text/plain": [
       "recommendations finished on 10000/105101 queries. users per second: 839631"
      ]
     },
     "metadata": {},
     "output_type": "display_data"
    },
    {
     "data": {
      "text/html": [
       "<pre>recommendations finished on 11000/105101 queries. users per second: 820283</pre>"
      ],
      "text/plain": [
       "recommendations finished on 11000/105101 queries. users per second: 820283"
      ]
     },
     "metadata": {},
     "output_type": "display_data"
    },
    {
     "data": {
      "text/html": [
       "<pre>recommendations finished on 12000/105101 queries. users per second: 784878</pre>"
      ],
      "text/plain": [
       "recommendations finished on 12000/105101 queries. users per second: 784878"
      ]
     },
     "metadata": {},
     "output_type": "display_data"
    },
    {
     "data": {
      "text/html": [
       "<pre>recommendations finished on 13000/105101 queries. users per second: 746826</pre>"
      ],
      "text/plain": [
       "recommendations finished on 13000/105101 queries. users per second: 746826"
      ]
     },
     "metadata": {},
     "output_type": "display_data"
    },
    {
     "data": {
      "text/html": [
       "<pre>recommendations finished on 14000/105101 queries. users per second: 726933</pre>"
      ],
      "text/plain": [
       "recommendations finished on 14000/105101 queries. users per second: 726933"
      ]
     },
     "metadata": {},
     "output_type": "display_data"
    },
    {
     "data": {
      "text/html": [
       "<pre>recommendations finished on 15000/105101 queries. users per second: 722613</pre>"
      ],
      "text/plain": [
       "recommendations finished on 15000/105101 queries. users per second: 722613"
      ]
     },
     "metadata": {},
     "output_type": "display_data"
    },
    {
     "data": {
      "text/html": [
       "<pre>recommendations finished on 16000/105101 queries. users per second: 708121</pre>"
      ],
      "text/plain": [
       "recommendations finished on 16000/105101 queries. users per second: 708121"
      ]
     },
     "metadata": {},
     "output_type": "display_data"
    },
    {
     "data": {
      "text/html": [
       "<pre>recommendations finished on 17000/105101 queries. users per second: 693227</pre>"
      ],
      "text/plain": [
       "recommendations finished on 17000/105101 queries. users per second: 693227"
      ]
     },
     "metadata": {},
     "output_type": "display_data"
    },
    {
     "data": {
      "text/html": [
       "<pre>recommendations finished on 18000/105101 queries. users per second: 645346</pre>"
      ],
      "text/plain": [
       "recommendations finished on 18000/105101 queries. users per second: 645346"
      ]
     },
     "metadata": {},
     "output_type": "display_data"
    },
    {
     "data": {
      "text/html": [
       "<pre>recommendations finished on 19000/105101 queries. users per second: 626401</pre>"
      ],
      "text/plain": [
       "recommendations finished on 19000/105101 queries. users per second: 626401"
      ]
     },
     "metadata": {},
     "output_type": "display_data"
    },
    {
     "data": {
      "text/html": [
       "<pre>recommendations finished on 20000/105101 queries. users per second: 621736</pre>"
      ],
      "text/plain": [
       "recommendations finished on 20000/105101 queries. users per second: 621736"
      ]
     },
     "metadata": {},
     "output_type": "display_data"
    },
    {
     "data": {
      "text/html": [
       "<pre>recommendations finished on 21000/105101 queries. users per second: 618684</pre>"
      ],
      "text/plain": [
       "recommendations finished on 21000/105101 queries. users per second: 618684"
      ]
     },
     "metadata": {},
     "output_type": "display_data"
    },
    {
     "data": {
      "text/html": [
       "<pre>recommendations finished on 22000/105101 queries. users per second: 616523</pre>"
      ],
      "text/plain": [
       "recommendations finished on 22000/105101 queries. users per second: 616523"
      ]
     },
     "metadata": {},
     "output_type": "display_data"
    },
    {
     "data": {
      "text/html": [
       "<pre>recommendations finished on 23000/105101 queries. users per second: 608772</pre>"
      ],
      "text/plain": [
       "recommendations finished on 23000/105101 queries. users per second: 608772"
      ]
     },
     "metadata": {},
     "output_type": "display_data"
    },
    {
     "data": {
      "text/html": [
       "<pre>recommendations finished on 24000/105101 queries. users per second: 595726</pre>"
      ],
      "text/plain": [
       "recommendations finished on 24000/105101 queries. users per second: 595726"
      ]
     },
     "metadata": {},
     "output_type": "display_data"
    },
    {
     "data": {
      "text/html": [
       "<pre>recommendations finished on 25000/105101 queries. users per second: 593726</pre>"
      ],
      "text/plain": [
       "recommendations finished on 25000/105101 queries. users per second: 593726"
      ]
     },
     "metadata": {},
     "output_type": "display_data"
    },
    {
     "data": {
      "text/html": [
       "<pre>recommendations finished on 26000/105101 queries. users per second: 596494</pre>"
      ],
      "text/plain": [
       "recommendations finished on 26000/105101 queries. users per second: 596494"
      ]
     },
     "metadata": {},
     "output_type": "display_data"
    },
    {
     "data": {
      "text/html": [
       "<pre>recommendations finished on 27000/105101 queries. users per second: 595974</pre>"
      ],
      "text/plain": [
       "recommendations finished on 27000/105101 queries. users per second: 595974"
      ]
     },
     "metadata": {},
     "output_type": "display_data"
    },
    {
     "data": {
      "text/html": [
       "<pre>recommendations finished on 28000/105101 queries. users per second: 594998</pre>"
      ],
      "text/plain": [
       "recommendations finished on 28000/105101 queries. users per second: 594998"
      ]
     },
     "metadata": {},
     "output_type": "display_data"
    },
    {
     "data": {
      "text/html": [
       "<pre>recommendations finished on 29000/105101 queries. users per second: 593897</pre>"
      ],
      "text/plain": [
       "recommendations finished on 29000/105101 queries. users per second: 593897"
      ]
     },
     "metadata": {},
     "output_type": "display_data"
    },
    {
     "data": {
      "text/html": [
       "<pre>recommendations finished on 30000/105101 queries. users per second: 596872</pre>"
      ],
      "text/plain": [
       "recommendations finished on 30000/105101 queries. users per second: 596872"
      ]
     },
     "metadata": {},
     "output_type": "display_data"
    },
    {
     "data": {
      "text/html": [
       "<pre>recommendations finished on 31000/105101 queries. users per second: 593063</pre>"
      ],
      "text/plain": [
       "recommendations finished on 31000/105101 queries. users per second: 593063"
      ]
     },
     "metadata": {},
     "output_type": "display_data"
    },
    {
     "data": {
      "text/html": [
       "<pre>recommendations finished on 32000/105101 queries. users per second: 592044</pre>"
      ],
      "text/plain": [
       "recommendations finished on 32000/105101 queries. users per second: 592044"
      ]
     },
     "metadata": {},
     "output_type": "display_data"
    },
    {
     "data": {
      "text/html": [
       "<pre>recommendations finished on 34000/105101 queries. users per second: 580859</pre>"
      ],
      "text/plain": [
       "recommendations finished on 34000/105101 queries. users per second: 580859"
      ]
     },
     "metadata": {},
     "output_type": "display_data"
    },
    {
     "data": {
      "text/html": [
       "<pre>recommendations finished on 35000/105101 queries. users per second: 583188</pre>"
      ],
      "text/plain": [
       "recommendations finished on 35000/105101 queries. users per second: 583188"
      ]
     },
     "metadata": {},
     "output_type": "display_data"
    },
    {
     "data": {
      "text/html": [
       "<pre>recommendations finished on 33000/105101 queries. users per second: 563198</pre>"
      ],
      "text/plain": [
       "recommendations finished on 33000/105101 queries. users per second: 563198"
      ]
     },
     "metadata": {},
     "output_type": "display_data"
    },
    {
     "data": {
      "text/html": [
       "<pre>recommendations finished on 36000/105101 queries. users per second: 583904</pre>"
      ],
      "text/plain": [
       "recommendations finished on 36000/105101 queries. users per second: 583904"
      ]
     },
     "metadata": {},
     "output_type": "display_data"
    },
    {
     "data": {
      "text/html": [
       "<pre>recommendations finished on 37000/105101 queries. users per second: 586771</pre>"
      ],
      "text/plain": [
       "recommendations finished on 37000/105101 queries. users per second: 586771"
      ]
     },
     "metadata": {},
     "output_type": "display_data"
    },
    {
     "data": {
      "text/html": [
       "<pre>recommendations finished on 38000/105101 queries. users per second: 583995</pre>"
      ],
      "text/plain": [
       "recommendations finished on 38000/105101 queries. users per second: 583995"
      ]
     },
     "metadata": {},
     "output_type": "display_data"
    },
    {
     "data": {
      "text/html": [
       "<pre>recommendations finished on 39000/105101 queries. users per second: 583431</pre>"
      ],
      "text/plain": [
       "recommendations finished on 39000/105101 queries. users per second: 583431"
      ]
     },
     "metadata": {},
     "output_type": "display_data"
    },
    {
     "data": {
      "text/html": [
       "<pre>recommendations finished on 40000/105101 queries. users per second: 588036</pre>"
      ],
      "text/plain": [
       "recommendations finished on 40000/105101 queries. users per second: 588036"
      ]
     },
     "metadata": {},
     "output_type": "display_data"
    },
    {
     "data": {
      "text/html": [
       "<pre>recommendations finished on 41000/105101 queries. users per second: 590744</pre>"
      ],
      "text/plain": [
       "recommendations finished on 41000/105101 queries. users per second: 590744"
      ]
     },
     "metadata": {},
     "output_type": "display_data"
    },
    {
     "data": {
      "text/html": [
       "<pre>recommendations finished on 42000/105101 queries. users per second: 592961</pre>"
      ],
      "text/plain": [
       "recommendations finished on 42000/105101 queries. users per second: 592961"
      ]
     },
     "metadata": {},
     "output_type": "display_data"
    },
    {
     "data": {
      "text/html": [
       "<pre>recommendations finished on 43000/105101 queries. users per second: 595337</pre>"
      ],
      "text/plain": [
       "recommendations finished on 43000/105101 queries. users per second: 595337"
      ]
     },
     "metadata": {},
     "output_type": "display_data"
    },
    {
     "data": {
      "text/html": [
       "<pre>recommendations finished on 44000/105101 queries. users per second: 596465</pre>"
      ],
      "text/plain": [
       "recommendations finished on 44000/105101 queries. users per second: 596465"
      ]
     },
     "metadata": {},
     "output_type": "display_data"
    },
    {
     "data": {
      "text/html": [
       "<pre>recommendations finished on 45000/105101 queries. users per second: 596944</pre>"
      ],
      "text/plain": [
       "recommendations finished on 45000/105101 queries. users per second: 596944"
      ]
     },
     "metadata": {},
     "output_type": "display_data"
    },
    {
     "data": {
      "text/html": [
       "<pre>recommendations finished on 46000/105101 queries. users per second: 596342</pre>"
      ],
      "text/plain": [
       "recommendations finished on 46000/105101 queries. users per second: 596342"
      ]
     },
     "metadata": {},
     "output_type": "display_data"
    },
    {
     "data": {
      "text/html": [
       "<pre>recommendations finished on 47000/105101 queries. users per second: 596856</pre>"
      ],
      "text/plain": [
       "recommendations finished on 47000/105101 queries. users per second: 596856"
      ]
     },
     "metadata": {},
     "output_type": "display_data"
    },
    {
     "data": {
      "text/html": [
       "<pre>recommendations finished on 48000/105101 queries. users per second: 596852</pre>"
      ],
      "text/plain": [
       "recommendations finished on 48000/105101 queries. users per second: 596852"
      ]
     },
     "metadata": {},
     "output_type": "display_data"
    },
    {
     "data": {
      "text/html": [
       "<pre>recommendations finished on 49000/105101 queries. users per second: 596673</pre>"
      ],
      "text/plain": [
       "recommendations finished on 49000/105101 queries. users per second: 596673"
      ]
     },
     "metadata": {},
     "output_type": "display_data"
    },
    {
     "data": {
      "text/html": [
       "<pre>recommendations finished on 50000/105101 queries. users per second: 595955</pre>"
      ],
      "text/plain": [
       "recommendations finished on 50000/105101 queries. users per second: 595955"
      ]
     },
     "metadata": {},
     "output_type": "display_data"
    },
    {
     "data": {
      "text/html": [
       "<pre>recommendations finished on 51000/105101 queries. users per second: 590250</pre>"
      ],
      "text/plain": [
       "recommendations finished on 51000/105101 queries. users per second: 590250"
      ]
     },
     "metadata": {},
     "output_type": "display_data"
    },
    {
     "data": {
      "text/html": [
       "<pre>recommendations finished on 52000/105101 queries. users per second: 571221</pre>"
      ],
      "text/plain": [
       "recommendations finished on 52000/105101 queries. users per second: 571221"
      ]
     },
     "metadata": {},
     "output_type": "display_data"
    },
    {
     "data": {
      "text/html": [
       "<pre>recommendations finished on 53000/105101 queries. users per second: 541950</pre>"
      ],
      "text/plain": [
       "recommendations finished on 53000/105101 queries. users per second: 541950"
      ]
     },
     "metadata": {},
     "output_type": "display_data"
    },
    {
     "data": {
      "text/html": [
       "<pre>recommendations finished on 54000/105101 queries. users per second: 534987</pre>"
      ],
      "text/plain": [
       "recommendations finished on 54000/105101 queries. users per second: 534987"
      ]
     },
     "metadata": {},
     "output_type": "display_data"
    },
    {
     "data": {
      "text/html": [
       "<pre>recommendations finished on 55000/105101 queries. users per second: 525401</pre>"
      ],
      "text/plain": [
       "recommendations finished on 55000/105101 queries. users per second: 525401"
      ]
     },
     "metadata": {},
     "output_type": "display_data"
    },
    {
     "data": {
      "text/html": [
       "<pre>recommendations finished on 56000/105101 queries. users per second: 519105</pre>"
      ],
      "text/plain": [
       "recommendations finished on 56000/105101 queries. users per second: 519105"
      ]
     },
     "metadata": {},
     "output_type": "display_data"
    },
    {
     "data": {
      "text/html": [
       "<pre>recommendations finished on 57000/105101 queries. users per second: 516829</pre>"
      ],
      "text/plain": [
       "recommendations finished on 57000/105101 queries. users per second: 516829"
      ]
     },
     "metadata": {},
     "output_type": "display_data"
    },
    {
     "data": {
      "text/html": [
       "<pre>recommendations finished on 58000/105101 queries. users per second: 515996</pre>"
      ],
      "text/plain": [
       "recommendations finished on 58000/105101 queries. users per second: 515996"
      ]
     },
     "metadata": {},
     "output_type": "display_data"
    },
    {
     "data": {
      "text/html": [
       "<pre>recommendations finished on 59000/105101 queries. users per second: 515870</pre>"
      ],
      "text/plain": [
       "recommendations finished on 59000/105101 queries. users per second: 515870"
      ]
     },
     "metadata": {},
     "output_type": "display_data"
    },
    {
     "data": {
      "text/html": [
       "<pre>recommendations finished on 60000/105101 queries. users per second: 513439</pre>"
      ],
      "text/plain": [
       "recommendations finished on 60000/105101 queries. users per second: 513439"
      ]
     },
     "metadata": {},
     "output_type": "display_data"
    },
    {
     "data": {
      "text/html": [
       "<pre>recommendations finished on 61000/105101 queries. users per second: 512627</pre>"
      ],
      "text/plain": [
       "recommendations finished on 61000/105101 queries. users per second: 512627"
      ]
     },
     "metadata": {},
     "output_type": "display_data"
    },
    {
     "data": {
      "text/html": [
       "<pre>recommendations finished on 62000/105101 queries. users per second: 509868</pre>"
      ],
      "text/plain": [
       "recommendations finished on 62000/105101 queries. users per second: 509868"
      ]
     },
     "metadata": {},
     "output_type": "display_data"
    },
    {
     "data": {
      "text/html": [
       "<pre>recommendations finished on 63000/105101 queries. users per second: 507132</pre>"
      ],
      "text/plain": [
       "recommendations finished on 63000/105101 queries. users per second: 507132"
      ]
     },
     "metadata": {},
     "output_type": "display_data"
    },
    {
     "data": {
      "text/html": [
       "<pre>recommendations finished on 64000/105101 queries. users per second: 506686</pre>"
      ],
      "text/plain": [
       "recommendations finished on 64000/105101 queries. users per second: 506686"
      ]
     },
     "metadata": {},
     "output_type": "display_data"
    },
    {
     "data": {
      "text/html": [
       "<pre>recommendations finished on 65000/105101 queries. users per second: 507182</pre>"
      ],
      "text/plain": [
       "recommendations finished on 65000/105101 queries. users per second: 507182"
      ]
     },
     "metadata": {},
     "output_type": "display_data"
    },
    {
     "data": {
      "text/html": [
       "<pre>recommendations finished on 66000/105101 queries. users per second: 509377</pre>"
      ],
      "text/plain": [
       "recommendations finished on 66000/105101 queries. users per second: 509377"
      ]
     },
     "metadata": {},
     "output_type": "display_data"
    },
    {
     "data": {
      "text/html": [
       "<pre>recommendations finished on 67000/105101 queries. users per second: 511693</pre>"
      ],
      "text/plain": [
       "recommendations finished on 67000/105101 queries. users per second: 511693"
      ]
     },
     "metadata": {},
     "output_type": "display_data"
    },
    {
     "data": {
      "text/html": [
       "<pre>recommendations finished on 68000/105101 queries. users per second: 514026</pre>"
      ],
      "text/plain": [
       "recommendations finished on 68000/105101 queries. users per second: 514026"
      ]
     },
     "metadata": {},
     "output_type": "display_data"
    },
    {
     "data": {
      "text/html": [
       "<pre>recommendations finished on 69000/105101 queries. users per second: 514273</pre>"
      ],
      "text/plain": [
       "recommendations finished on 69000/105101 queries. users per second: 514273"
      ]
     },
     "metadata": {},
     "output_type": "display_data"
    },
    {
     "data": {
      "text/html": [
       "<pre>recommendations finished on 70000/105101 queries. users per second: 514214</pre>"
      ],
      "text/plain": [
       "recommendations finished on 70000/105101 queries. users per second: 514214"
      ]
     },
     "metadata": {},
     "output_type": "display_data"
    },
    {
     "data": {
      "text/html": [
       "<pre>recommendations finished on 71000/105101 queries. users per second: 511620</pre>"
      ],
      "text/plain": [
       "recommendations finished on 71000/105101 queries. users per second: 511620"
      ]
     },
     "metadata": {},
     "output_type": "display_data"
    },
    {
     "data": {
      "text/html": [
       "<pre>recommendations finished on 72000/105101 queries. users per second: 510765</pre>"
      ],
      "text/plain": [
       "recommendations finished on 72000/105101 queries. users per second: 510765"
      ]
     },
     "metadata": {},
     "output_type": "display_data"
    },
    {
     "data": {
      "text/html": [
       "<pre>recommendations finished on 73000/105101 queries. users per second: 512227</pre>"
      ],
      "text/plain": [
       "recommendations finished on 73000/105101 queries. users per second: 512227"
      ]
     },
     "metadata": {},
     "output_type": "display_data"
    },
    {
     "data": {
      "text/html": [
       "<pre>recommendations finished on 74000/105101 queries. users per second: 513329</pre>"
      ],
      "text/plain": [
       "recommendations finished on 74000/105101 queries. users per second: 513329"
      ]
     },
     "metadata": {},
     "output_type": "display_data"
    },
    {
     "data": {
      "text/html": [
       "<pre>recommendations finished on 75000/105101 queries. users per second: 513822</pre>"
      ],
      "text/plain": [
       "recommendations finished on 75000/105101 queries. users per second: 513822"
      ]
     },
     "metadata": {},
     "output_type": "display_data"
    },
    {
     "data": {
      "text/html": [
       "<pre>recommendations finished on 76000/105101 queries. users per second: 509677</pre>"
      ],
      "text/plain": [
       "recommendations finished on 76000/105101 queries. users per second: 509677"
      ]
     },
     "metadata": {},
     "output_type": "display_data"
    },
    {
     "data": {
      "text/html": [
       "<pre>recommendations finished on 77000/105101 queries. users per second: 505478</pre>"
      ],
      "text/plain": [
       "recommendations finished on 77000/105101 queries. users per second: 505478"
      ]
     },
     "metadata": {},
     "output_type": "display_data"
    },
    {
     "data": {
      "text/html": [
       "<pre>recommendations finished on 78000/105101 queries. users per second: 505208</pre>"
      ],
      "text/plain": [
       "recommendations finished on 78000/105101 queries. users per second: 505208"
      ]
     },
     "metadata": {},
     "output_type": "display_data"
    },
    {
     "data": {
      "text/html": [
       "<pre>recommendations finished on 79000/105101 queries. users per second: 502359</pre>"
      ],
      "text/plain": [
       "recommendations finished on 79000/105101 queries. users per second: 502359"
      ]
     },
     "metadata": {},
     "output_type": "display_data"
    },
    {
     "data": {
      "text/html": [
       "<pre>recommendations finished on 80000/105101 queries. users per second: 496947</pre>"
      ],
      "text/plain": [
       "recommendations finished on 80000/105101 queries. users per second: 496947"
      ]
     },
     "metadata": {},
     "output_type": "display_data"
    },
    {
     "data": {
      "text/html": [
       "<pre>recommendations finished on 81000/105101 queries. users per second: 496646</pre>"
      ],
      "text/plain": [
       "recommendations finished on 81000/105101 queries. users per second: 496646"
      ]
     },
     "metadata": {},
     "output_type": "display_data"
    },
    {
     "data": {
      "text/html": [
       "<pre>recommendations finished on 82000/105101 queries. users per second: 498129</pre>"
      ],
      "text/plain": [
       "recommendations finished on 82000/105101 queries. users per second: 498129"
      ]
     },
     "metadata": {},
     "output_type": "display_data"
    },
    {
     "data": {
      "text/html": [
       "<pre>recommendations finished on 83000/105101 queries. users per second: 499338</pre>"
      ],
      "text/plain": [
       "recommendations finished on 83000/105101 queries. users per second: 499338"
      ]
     },
     "metadata": {},
     "output_type": "display_data"
    },
    {
     "data": {
      "text/html": [
       "<pre>recommendations finished on 84000/105101 queries. users per second: 500515</pre>"
      ],
      "text/plain": [
       "recommendations finished on 84000/105101 queries. users per second: 500515"
      ]
     },
     "metadata": {},
     "output_type": "display_data"
    },
    {
     "data": {
      "text/html": [
       "<pre>recommendations finished on 85000/105101 queries. users per second: 498545</pre>"
      ],
      "text/plain": [
       "recommendations finished on 85000/105101 queries. users per second: 498545"
      ]
     },
     "metadata": {},
     "output_type": "display_data"
    },
    {
     "data": {
      "text/html": [
       "<pre>recommendations finished on 86000/105101 queries. users per second: 495389</pre>"
      ],
      "text/plain": [
       "recommendations finished on 86000/105101 queries. users per second: 495389"
      ]
     },
     "metadata": {},
     "output_type": "display_data"
    },
    {
     "data": {
      "text/html": [
       "<pre>recommendations finished on 87000/105101 queries. users per second: 496694</pre>"
      ],
      "text/plain": [
       "recommendations finished on 87000/105101 queries. users per second: 496694"
      ]
     },
     "metadata": {},
     "output_type": "display_data"
    },
    {
     "data": {
      "text/html": [
       "<pre>recommendations finished on 88000/105101 queries. users per second: 498228</pre>"
      ],
      "text/plain": [
       "recommendations finished on 88000/105101 queries. users per second: 498228"
      ]
     },
     "metadata": {},
     "output_type": "display_data"
    },
    {
     "data": {
      "text/html": [
       "<pre>recommendations finished on 89000/105101 queries. users per second: 499386</pre>"
      ],
      "text/plain": [
       "recommendations finished on 89000/105101 queries. users per second: 499386"
      ]
     },
     "metadata": {},
     "output_type": "display_data"
    },
    {
     "data": {
      "text/html": [
       "<pre>recommendations finished on 90000/105101 queries. users per second: 501153</pre>"
      ],
      "text/plain": [
       "recommendations finished on 90000/105101 queries. users per second: 501153"
      ]
     },
     "metadata": {},
     "output_type": "display_data"
    },
    {
     "data": {
      "text/html": [
       "<pre>recommendations finished on 91000/105101 queries. users per second: 501856</pre>"
      ],
      "text/plain": [
       "recommendations finished on 91000/105101 queries. users per second: 501856"
      ]
     },
     "metadata": {},
     "output_type": "display_data"
    },
    {
     "data": {
      "text/html": [
       "<pre>recommendations finished on 92000/105101 queries. users per second: 503040</pre>"
      ],
      "text/plain": [
       "recommendations finished on 92000/105101 queries. users per second: 503040"
      ]
     },
     "metadata": {},
     "output_type": "display_data"
    },
    {
     "data": {
      "text/html": [
       "<pre>recommendations finished on 93000/105101 queries. users per second: 500840</pre>"
      ],
      "text/plain": [
       "recommendations finished on 93000/105101 queries. users per second: 500840"
      ]
     },
     "metadata": {},
     "output_type": "display_data"
    },
    {
     "data": {
      "text/html": [
       "<pre>recommendations finished on 94000/105101 queries. users per second: 481723</pre>"
      ],
      "text/plain": [
       "recommendations finished on 94000/105101 queries. users per second: 481723"
      ]
     },
     "metadata": {},
     "output_type": "display_data"
    },
    {
     "data": {
      "text/html": [
       "<pre>recommendations finished on 95000/105101 queries. users per second: 480188</pre>"
      ],
      "text/plain": [
       "recommendations finished on 95000/105101 queries. users per second: 480188"
      ]
     },
     "metadata": {},
     "output_type": "display_data"
    },
    {
     "data": {
      "text/html": [
       "<pre>recommendations finished on 96000/105101 queries. users per second: 478000</pre>"
      ],
      "text/plain": [
       "recommendations finished on 96000/105101 queries. users per second: 478000"
      ]
     },
     "metadata": {},
     "output_type": "display_data"
    },
    {
     "data": {
      "text/html": [
       "<pre>recommendations finished on 97000/105101 queries. users per second: 474845</pre>"
      ],
      "text/plain": [
       "recommendations finished on 97000/105101 queries. users per second: 474845"
      ]
     },
     "metadata": {},
     "output_type": "display_data"
    },
    {
     "data": {
      "text/html": [
       "<pre>recommendations finished on 98000/105101 queries. users per second: 458171</pre>"
      ],
      "text/plain": [
       "recommendations finished on 98000/105101 queries. users per second: 458171"
      ]
     },
     "metadata": {},
     "output_type": "display_data"
    },
    {
     "data": {
      "text/html": [
       "<pre>recommendations finished on 99000/105101 queries. users per second: 453448</pre>"
      ],
      "text/plain": [
       "recommendations finished on 99000/105101 queries. users per second: 453448"
      ]
     },
     "metadata": {},
     "output_type": "display_data"
    },
    {
     "data": {
      "text/html": [
       "<pre>recommendations finished on 100000/105101 queries. users per second: 447730</pre>"
      ],
      "text/plain": [
       "recommendations finished on 100000/105101 queries. users per second: 447730"
      ]
     },
     "metadata": {},
     "output_type": "display_data"
    },
    {
     "data": {
      "text/html": [
       "<pre>recommendations finished on 101000/105101 queries. users per second: 447612</pre>"
      ],
      "text/plain": [
       "recommendations finished on 101000/105101 queries. users per second: 447612"
      ]
     },
     "metadata": {},
     "output_type": "display_data"
    },
    {
     "data": {
      "text/html": [
       "<pre>recommendations finished on 102000/105101 queries. users per second: 445958</pre>"
      ],
      "text/plain": [
       "recommendations finished on 102000/105101 queries. users per second: 445958"
      ]
     },
     "metadata": {},
     "output_type": "display_data"
    },
    {
     "data": {
      "text/html": [
       "<pre>recommendations finished on 103000/105101 queries. users per second: 443169</pre>"
      ],
      "text/plain": [
       "recommendations finished on 103000/105101 queries. users per second: 443169"
      ]
     },
     "metadata": {},
     "output_type": "display_data"
    },
    {
     "data": {
      "text/html": [
       "<pre>recommendations finished on 104000/105101 queries. users per second: 435256</pre>"
      ],
      "text/plain": [
       "recommendations finished on 104000/105101 queries. users per second: 435256"
      ]
     },
     "metadata": {},
     "output_type": "display_data"
    },
    {
     "data": {
      "text/html": [
       "<pre>recommendations finished on 105000/105101 queries. users per second: 433215</pre>"
      ],
      "text/plain": [
       "recommendations finished on 105000/105101 queries. users per second: 433215"
      ]
     },
     "metadata": {},
     "output_type": "display_data"
    }
   ],
   "source": [
    "# Get recommendations for a list of users to recommend (from customers file)\n",
    "# Printed below is head / top 30 rows for first 3 customers with 10 recommendations each\n",
    "\n",
    "popularity_recomm = popularity_model.recommend(users=users_to_recommend, k=n_rec)\n"
   ]
  },
  {
   "cell_type": "markdown",
   "metadata": {},
   "source": [
    "# Top 10 trendig restaurants in that city over 1 month"
   ]
  },
  {
   "cell_type": "code",
   "execution_count": 59,
   "metadata": {},
   "outputs": [
    {
     "name": "stdout",
     "output_type": "stream",
     "text": [
      "+------------+-----------+--------------------+------+\n",
      "| customerId | productId |       score        | rank |\n",
      "+------------+-----------+--------------------+------+\n",
      "| Customer_0 |     66    | 3.0380549682875264 |  1   |\n",
      "| Customer_0 |    366    | 2.5854748603351956 |  2   |\n",
      "| Customer_0 |    411    | 2.2359281437125746 |  3   |\n",
      "| Customer_0 |    417    | 2.153012048192771  |  4   |\n",
      "| Customer_0 |    466    | 1.9010416666666667 |  5   |\n",
      "| Customer_0 |     66    | 3.0380549682875264 |  1   |\n",
      "| Customer_0 |    366    | 2.5854748603351956 |  2   |\n",
      "| Customer_0 |    411    | 2.2359281437125746 |  3   |\n",
      "| Customer_0 |    417    | 2.153012048192771  |  4   |\n",
      "| Customer_0 |    466    | 1.9010416666666667 |  5   |\n",
      "| Customer_0 |     66    | 3.0380549682875264 |  1   |\n",
      "| Customer_0 |    366    | 2.5854748603351956 |  2   |\n",
      "| Customer_0 |    411    | 2.2359281437125746 |  3   |\n",
      "| Customer_0 |    417    | 2.153012048192771  |  4   |\n",
      "| Customer_0 |    466    | 1.9010416666666667 |  5   |\n",
      "| Customer_0 |     66    | 3.0380549682875264 |  1   |\n",
      "| Customer_0 |    366    | 2.5854748603351956 |  2   |\n",
      "| Customer_0 |    411    | 2.2359281437125746 |  3   |\n",
      "| Customer_0 |    417    | 2.153012048192771  |  4   |\n",
      "| Customer_0 |    466    | 1.9010416666666667 |  5   |\n",
      "+------------+-----------+--------------------+------+\n",
      "[525505 rows x 4 columns]\n",
      "\n"
     ]
    }
   ],
   "source": [
    "popularity_recomm.print_rows(20)   # These are the recommendations at user level using a Baseline Model"
   ]
  },
  {
   "cell_type": "markdown",
   "metadata": {},
   "source": [
    "#### Define a `model` function for model selection"
   ]
  },
  {
   "cell_type": "code",
   "execution_count": 71,
   "metadata": {},
   "outputs": [],
   "source": [
    "# Since turicreate is very accessible library, we can define a model selection function as below\n",
    "# The model will decide what should be the similarity criteria like cosine or pearson\n",
    "\n",
    "def model(train_data, name, user_id, item_id, target, users_to_recommend, n_rec, n_display):\n",
    "    if name == 'popularity':\n",
    "        model = tc.popularity_recommender.create(train_data, \n",
    "                                                    user_id=user_id, \n",
    "                                                    item_id=item_id, \n",
    "                                                    target=target)\n",
    "    elif name == 'cosine':\n",
    "        model = tc.item_similarity_recommender.create(train_data, \n",
    "                                                    user_id=user_id, \n",
    "                                                    item_id=item_id, \n",
    "                                                    target=target, \n",
    "                                                    similarity_type='cosine')\n",
    "    elif name == 'pearson':\n",
    "        model = tc.item_similarity_recommender.create(train_data, \n",
    "                                                    user_id=user_id, \n",
    "                                                    item_id=item_id, \n",
    "                                                    target=target, \n",
    "                                                    similarity_type='pearson')\n",
    "        \n",
    "    recom = model.recommend(users=users_to_recommend, k=n_rec)\n",
    "    recom.print_rows(n_display)\n",
    "    return model"
   ]
  },
  {
   "cell_type": "code",
   "execution_count": 61,
   "metadata": {},
   "outputs": [],
   "source": [
    "customers=pd.DataFrame({\"user_id\":[\"Customer_002\",\"Customer_001\",\"Customer_000\"]})"
   ]
  },
  {
   "cell_type": "code",
   "execution_count": 62,
   "metadata": {},
   "outputs": [
    {
     "data": {
      "text/html": [
       "<div>\n",
       "<style scoped>\n",
       "    .dataframe tbody tr th:only-of-type {\n",
       "        vertical-align: middle;\n",
       "    }\n",
       "\n",
       "    .dataframe tbody tr th {\n",
       "        vertical-align: top;\n",
       "    }\n",
       "\n",
       "    .dataframe thead th {\n",
       "        text-align: right;\n",
       "    }\n",
       "</style>\n",
       "<table border=\"1\" class=\"dataframe\">\n",
       "  <thead>\n",
       "    <tr style=\"text-align: right;\">\n",
       "      <th></th>\n",
       "      <th>user_id</th>\n",
       "    </tr>\n",
       "  </thead>\n",
       "  <tbody>\n",
       "    <tr>\n",
       "      <th>0</th>\n",
       "      <td>Customer_002</td>\n",
       "    </tr>\n",
       "    <tr>\n",
       "      <th>1</th>\n",
       "      <td>Customer_001</td>\n",
       "    </tr>\n",
       "    <tr>\n",
       "      <th>2</th>\n",
       "      <td>Customer_000</td>\n",
       "    </tr>\n",
       "  </tbody>\n",
       "</table>\n",
       "</div>"
      ],
      "text/plain": [
       "        user_id\n",
       "0  Customer_002\n",
       "1  Customer_001\n",
       "2  Customer_000"
      ]
     },
     "execution_count": 62,
     "metadata": {},
     "output_type": "execute_result"
    }
   ],
   "source": [
    "customers"
   ]
  },
  {
   "cell_type": "code",
   "execution_count": 63,
   "metadata": {},
   "outputs": [],
   "source": [
    "# variables to define field names\n",
    "# constant variables include:\n",
    "user_id = 'customerId'\n",
    "item_id = 'productId'\n",
    "users_to_recommend = list(customers[\"user_id\"])\n",
    "n_rec = 10 # number of items to recommend\n",
    "n_display = 30 # to print the head / first few rows in a defined dataset"
   ]
  },
  {
   "cell_type": "markdown",
   "metadata": {},
   "source": [
    "#### Using purchase dummy"
   ]
  },
  {
   "cell_type": "code",
   "execution_count": 76,
   "metadata": {},
   "outputs": [
    {
     "data": {
      "text/html": [
       "<pre>Preparing data set.</pre>"
      ],
      "text/plain": [
       "Preparing data set."
      ]
     },
     "metadata": {},
     "output_type": "display_data"
    },
    {
     "data": {
      "text/html": [
       "<pre>    Data has 99938 observations with 1000 users and 427 items.</pre>"
      ],
      "text/plain": [
       "    Data has 99938 observations with 1000 users and 427 items."
      ]
     },
     "metadata": {},
     "output_type": "display_data"
    },
    {
     "data": {
      "text/html": [
       "<pre>    Data prepared in: 0.08911s</pre>"
      ],
      "text/plain": [
       "    Data prepared in: 0.08911s"
      ]
     },
     "metadata": {},
     "output_type": "display_data"
    },
    {
     "data": {
      "text/html": [
       "<pre>99938 observations to process; with 427 unique items.</pre>"
      ],
      "text/plain": [
       "99938 observations to process; with 427 unique items."
      ]
     },
     "metadata": {},
     "output_type": "display_data"
    },
    {
     "name": "stdout",
     "output_type": "stream",
     "text": [
      "+--------------+-----------+---------------------+------+\n",
      "|  customerId  | productId |        score        | rank |\n",
      "+--------------+-----------+---------------------+------+\n",
      "| Customer_002 |     95    | 0.35299999999999765 |  1   |\n",
      "| Customer_002 |    236    | 0.35161990647962577 |  2   |\n",
      "| Customer_002 |    105    |  0.3283802491924327 |  3   |\n",
      "| Customer_002 |    277    |  0.3049999999999998 |  4   |\n",
      "| Customer_002 |    594    |  0.2859953703703722 |  5   |\n",
      "| Customer_002 |     87    |  0.2635416666666693 |  6   |\n",
      "| Customer_002 |    503    |  0.2610011641443535 |  7   |\n",
      "| Customer_002 |    419    | 0.24971941638608292 |  8   |\n",
      "| Customer_002 |    131    | 0.24917012448132758 |  9   |\n",
      "| Customer_002 |    101    |  0.2286814425244198 |  10  |\n",
      "| Customer_001 |     95    | 0.35299999999999765 |  1   |\n",
      "| Customer_001 |    236    | 0.35161990647962577 |  2   |\n",
      "| Customer_001 |    105    |  0.3283802491924327 |  3   |\n",
      "| Customer_001 |    277    |  0.3049999999999998 |  4   |\n",
      "| Customer_001 |    594    |  0.2859953703703722 |  5   |\n",
      "| Customer_001 |     87    |  0.2635416666666693 |  6   |\n",
      "| Customer_001 |    503    |  0.2610011641443535 |  7   |\n",
      "| Customer_001 |    419    | 0.24971941638608292 |  8   |\n",
      "| Customer_001 |    131    | 0.24917012448132758 |  9   |\n",
      "| Customer_001 |    101    |  0.2286814425244198 |  10  |\n",
      "| Customer_000 |     95    | 0.35299999999999765 |  1   |\n",
      "| Customer_000 |    236    | 0.35161990647962577 |  2   |\n",
      "| Customer_000 |    105    |  0.3283802491924327 |  3   |\n",
      "| Customer_000 |    277    |  0.3049999999999998 |  4   |\n",
      "| Customer_000 |    594    |  0.2859953703703722 |  5   |\n",
      "| Customer_000 |     87    |  0.2635416666666693 |  6   |\n",
      "| Customer_000 |    503    |  0.2610011641443535 |  7   |\n",
      "| Customer_000 |    419    | 0.24971941638608292 |  8   |\n",
      "| Customer_000 |    131    | 0.24917012448132758 |  9   |\n",
      "| Customer_000 |    101    |  0.2286814425244198 |  10  |\n",
      "+--------------+-----------+---------------------+------+\n",
      "[30 rows x 4 columns]\n",
      "\n"
     ]
    }
   ],
   "source": [
    "# these variables will change accordingly\n",
    "name = 'popularity'\n",
    "target = 'scaled_purchase_freq'\n",
    "pop_model = model(norm, name, user_id, item_id, target, users_to_recommend, n_rec, n_display)"
   ]
  },
  {
   "cell_type": "code",
   "execution_count": 79,
   "metadata": {},
   "outputs": [],
   "source": [
    "def pred_popular(uid,k):\n",
    "    recom = pop_model.recommend(users=[uid], k=k)\n",
    "    recom = recom.to_dataframe() # convertinng sframe to dataframe\n",
    "    product_list=list(recom[\"productId\"])\n",
    "    predictions=[brand_dict_reverse[i] for i in product_list]\n",
    "    return predictions\n"
   ]
  },
  {
   "cell_type": "code",
   "execution_count": 93,
   "metadata": {},
   "outputs": [
    {
     "data": {
      "text/plain": [
       "['boost worldwide, inc.',\n",
       " 'redbox',\n",
       " 'valvoline',\n",
       " 'shell',\n",
       " 'subway',\n",
       " 'u-haul',\n",
       " 'fedex',\n",
       " 'timberland',\n",
       " 'valero',\n",
       " 'interstate batteries']"
      ]
     },
     "execution_count": 93,
     "metadata": {},
     "output_type": "execute_result"
    }
   ],
   "source": [
    "pred_popular(\"Customer_002\",10) #Same recommendation for All"
   ]
  },
  {
   "cell_type": "code",
   "execution_count": 94,
   "metadata": {},
   "outputs": [
    {
     "data": {
      "text/plain": [
       "['boost worldwide, inc.',\n",
       " 'redbox',\n",
       " 'valvoline',\n",
       " 'shell',\n",
       " 'subway',\n",
       " 'u-haul',\n",
       " 'fedex',\n",
       " 'timberland',\n",
       " 'valero',\n",
       " 'interstate batteries']"
      ]
     },
     "execution_count": 94,
     "metadata": {},
     "output_type": "execute_result"
    }
   ],
   "source": [
    "pred_popular(\"Customer_001\",10) #Same recommendation for All"
   ]
  },
  {
   "cell_type": "markdown",
   "metadata": {},
   "source": [
    "#### Final Model"
   ]
  },
  {
   "cell_type": "code",
   "execution_count": 83,
   "metadata": {},
   "outputs": [
    {
     "data": {
      "text/html": [
       "<pre>Preparing data set.</pre>"
      ],
      "text/plain": [
       "Preparing data set."
      ]
     },
     "metadata": {},
     "output_type": "display_data"
    },
    {
     "data": {
      "text/html": [
       "<pre>    Data has 99938 observations with 1000 users and 427 items.</pre>"
      ],
      "text/plain": [
       "    Data has 99938 observations with 1000 users and 427 items."
      ]
     },
     "metadata": {},
     "output_type": "display_data"
    },
    {
     "data": {
      "text/html": [
       "<pre>    Data prepared in: 0.078585s</pre>"
      ],
      "text/plain": [
       "    Data prepared in: 0.078585s"
      ]
     },
     "metadata": {},
     "output_type": "display_data"
    },
    {
     "data": {
      "text/html": [
       "<pre>Training model from provided data.</pre>"
      ],
      "text/plain": [
       "Training model from provided data."
      ]
     },
     "metadata": {},
     "output_type": "display_data"
    },
    {
     "data": {
      "text/html": [
       "<pre>Gathering per-item and per-user statistics.</pre>"
      ],
      "text/plain": [
       "Gathering per-item and per-user statistics."
      ]
     },
     "metadata": {},
     "output_type": "display_data"
    },
    {
     "data": {
      "text/html": [
       "<pre>+--------------------------------+------------+</pre>"
      ],
      "text/plain": [
       "+--------------------------------+------------+"
      ]
     },
     "metadata": {},
     "output_type": "display_data"
    },
    {
     "data": {
      "text/html": [
       "<pre>| Elapsed Time (Item Statistics) | % Complete |</pre>"
      ],
      "text/plain": [
       "| Elapsed Time (Item Statistics) | % Complete |"
      ]
     },
     "metadata": {},
     "output_type": "display_data"
    },
    {
     "data": {
      "text/html": [
       "<pre>+--------------------------------+------------+</pre>"
      ],
      "text/plain": [
       "+--------------------------------+------------+"
      ]
     },
     "metadata": {},
     "output_type": "display_data"
    },
    {
     "data": {
      "text/html": [
       "<pre>| 3.174ms                        | 100        |</pre>"
      ],
      "text/plain": [
       "| 3.174ms                        | 100        |"
      ]
     },
     "metadata": {},
     "output_type": "display_data"
    },
    {
     "data": {
      "text/html": [
       "<pre>| 3.609ms                        | 100        |</pre>"
      ],
      "text/plain": [
       "| 3.609ms                        | 100        |"
      ]
     },
     "metadata": {},
     "output_type": "display_data"
    },
    {
     "data": {
      "text/html": [
       "<pre>+--------------------------------+------------+</pre>"
      ],
      "text/plain": [
       "+--------------------------------+------------+"
      ]
     },
     "metadata": {},
     "output_type": "display_data"
    },
    {
     "data": {
      "text/html": [
       "<pre>Setting up lookup tables.</pre>"
      ],
      "text/plain": [
       "Setting up lookup tables."
      ]
     },
     "metadata": {},
     "output_type": "display_data"
    },
    {
     "data": {
      "text/html": [
       "<pre>Processing data in one pass using dense lookup tables.</pre>"
      ],
      "text/plain": [
       "Processing data in one pass using dense lookup tables."
      ]
     },
     "metadata": {},
     "output_type": "display_data"
    },
    {
     "data": {
      "text/html": [
       "<pre>+-------------------------------------+------------------+-----------------+</pre>"
      ],
      "text/plain": [
       "+-------------------------------------+------------------+-----------------+"
      ]
     },
     "metadata": {},
     "output_type": "display_data"
    },
    {
     "data": {
      "text/html": [
       "<pre>| Elapsed Time (Constructing Lookups) | Total % Complete | Items Processed |</pre>"
      ],
      "text/plain": [
       "| Elapsed Time (Constructing Lookups) | Total % Complete | Items Processed |"
      ]
     },
     "metadata": {},
     "output_type": "display_data"
    },
    {
     "data": {
      "text/html": [
       "<pre>+-------------------------------------+------------------+-----------------+</pre>"
      ],
      "text/plain": [
       "+-------------------------------------+------------------+-----------------+"
      ]
     },
     "metadata": {},
     "output_type": "display_data"
    },
    {
     "data": {
      "text/html": [
       "<pre>| 5.519ms                             | 0                | 0               |</pre>"
      ],
      "text/plain": [
       "| 5.519ms                             | 0                | 0               |"
      ]
     },
     "metadata": {},
     "output_type": "display_data"
    },
    {
     "data": {
      "text/html": [
       "<pre>| 127.564ms                           | 100              | 427             |</pre>"
      ],
      "text/plain": [
       "| 127.564ms                           | 100              | 427             |"
      ]
     },
     "metadata": {},
     "output_type": "display_data"
    },
    {
     "data": {
      "text/html": [
       "<pre>+-------------------------------------+------------------+-----------------+</pre>"
      ],
      "text/plain": [
       "+-------------------------------------+------------------+-----------------+"
      ]
     },
     "metadata": {},
     "output_type": "display_data"
    },
    {
     "data": {
      "text/html": [
       "<pre>Finalizing lookup tables.</pre>"
      ],
      "text/plain": [
       "Finalizing lookup tables."
      ]
     },
     "metadata": {},
     "output_type": "display_data"
    },
    {
     "data": {
      "text/html": [
       "<pre>Generating candidate set for working with new users.</pre>"
      ],
      "text/plain": [
       "Generating candidate set for working with new users."
      ]
     },
     "metadata": {},
     "output_type": "display_data"
    },
    {
     "data": {
      "text/html": [
       "<pre>Finished training in 0.135781s</pre>"
      ],
      "text/plain": [
       "Finished training in 0.135781s"
      ]
     },
     "metadata": {},
     "output_type": "display_data"
    }
   ],
   "source": [
    "final_model = tc.item_similarity_recommender.create(tc.SFrame(norm), \n",
    "                                            user_id=user_id, \n",
    "                                            item_id=item_id, \n",
    "                                            target='scaled_purchase_freq', \n",
    "                                            similarity_type='pearson')"
   ]
  },
  {
   "cell_type": "code",
   "execution_count": 111,
   "metadata": {},
   "outputs": [],
   "source": [
    "def pred_results(uid,k):\n",
    "    recom = final_model.recommend(users=[uid], k=k)\n",
    "    recom = recom.to_dataframe() # convertinng sframe to dataframe\n",
    "    product_list=list(recom[\"productId\"])\n",
    "    predictions=[brand_dict_reverse[i] for i in product_list]\n",
    "    return predictions\n",
    "    "
   ]
  },
  {
   "cell_type": "code",
   "execution_count": 99,
   "metadata": {},
   "outputs": [
    {
     "data": {
      "text/plain": [
       "['state farm',\n",
       " 'ultra mobile',\n",
       " 'jpmorgan chase bank, n.a.',\n",
       " 'tire rack',\n",
       " 'wells fargo',\n",
       " 'goodyear',\n",
       " 'citgo petroleum corporation',\n",
       " \"domino's pizza\",\n",
       " \"popeye's chicken\",\n",
       " 'laz parking']"
      ]
     },
     "execution_count": 99,
     "metadata": {},
     "output_type": "execute_result"
    }
   ],
   "source": [
    "pred_results(\"Customer_0\",10) #Different Predictions as per Customers history"
   ]
  },
  {
   "cell_type": "code",
   "execution_count": 95,
   "metadata": {},
   "outputs": [
    {
     "data": {
      "text/plain": [
       "['boost worldwide, inc.',\n",
       " 'redbox',\n",
       " 'valvoline',\n",
       " 'shell',\n",
       " 'subway',\n",
       " 'u-haul',\n",
       " 'fedex',\n",
       " 'timberland',\n",
       " 'valero',\n",
       " 'interstate batteries']"
      ]
     },
     "execution_count": 95,
     "metadata": {},
     "output_type": "execute_result"
    }
   ],
   "source": [
    "pred_results(\"Customer_002\",10) #Different Predictions as per Customers history"
   ]
  },
  {
   "cell_type": "code",
   "execution_count": 112,
   "metadata": {},
   "outputs": [
    {
     "data": {
      "text/plain": [
       "['cricket communications',\n",
       " 'cvs pharmacy',\n",
       " 'wells fargo',\n",
       " 'citgo petroleum corporation',\n",
       " 'laz parking',\n",
       " 'timewise',\n",
       " 'best western inn',\n",
       " 'hertz',\n",
       " 'radisson',\n",
       " 'napa auto parts']"
      ]
     },
     "execution_count": 112,
     "metadata": {},
     "output_type": "execute_result"
    }
   ],
   "source": [
    "pred_results(\"Customer_100\",10) ##Different Predictions as per customer Customers history"
   ]
  },
  {
   "cell_type": "code",
   "execution_count": 110,
   "metadata": {},
   "outputs": [
    {
     "data": {
      "text/plain": [
       "['subway',\n",
       " 'jpmorgan chase bank, n.a.',\n",
       " 'cvs pharmacy',\n",
       " 'best western inn',\n",
       " 'cummins',\n",
       " 'radisson',\n",
       " 'napa auto parts',\n",
       " 'best western plus',\n",
       " \"church's chicken\",\n",
       " 'la quinta inn']"
      ]
     },
     "execution_count": 110,
     "metadata": {},
     "output_type": "execute_result"
    }
   ],
   "source": [
    "pred_results(\"Customer_500\",10) ##Different Predictions as per customers history"
   ]
  },
  {
   "cell_type": "code",
   "execution_count": 107,
   "metadata": {},
   "outputs": [
    {
     "data": {
      "text/plain": [
       "['boost worldwide, inc.',\n",
       " 'redbox',\n",
       " 'valvoline',\n",
       " 'shell',\n",
       " 'subway',\n",
       " 'u-haul',\n",
       " 'fedex',\n",
       " 'timberland',\n",
       " 'valero',\n",
       " 'interstate batteries']"
      ]
     },
     "execution_count": 107,
     "metadata": {},
     "output_type": "execute_result"
    }
   ],
   "source": [
    "pred_results(\"Deepak\",10) ##New Customer trending items"
   ]
  },
  {
   "cell_type": "markdown",
   "metadata": {},
   "source": [
    "# Saving final_model "
   ]
  },
  {
   "cell_type": "code",
   "execution_count": 102,
   "metadata": {},
   "outputs": [],
   "source": [
    "final_model.save(\"recommender.h5\")"
   ]
  },
  {
   "cell_type": "code",
   "execution_count": 103,
   "metadata": {},
   "outputs": [],
   "source": [
    "pop_model.save(\"popular_recommender.h5\")"
   ]
  },
  {
   "cell_type": "code",
   "execution_count": 77,
   "metadata": {},
   "outputs": [],
   "source": [
    "brand_dict_reverse={k:v for v,k in brand_dict.items() }"
   ]
  },
  {
   "cell_type": "code",
   "execution_count": 105,
   "metadata": {},
   "outputs": [],
   "source": [
    "import pickle\n",
    "with open(\"brand_dict_reverse.pkl\",\"wb\") as rd:\n",
    "    pickle.dump(brand_dict_reverse,rd)"
   ]
  },
  {
   "cell_type": "code",
   "execution_count": 88,
   "metadata": {},
   "outputs": [
    {
     "data": {
      "text/html": [
       "<div>\n",
       "<style scoped>\n",
       "    .dataframe tbody tr th:only-of-type {\n",
       "        vertical-align: middle;\n",
       "    }\n",
       "\n",
       "    .dataframe tbody tr th {\n",
       "        vertical-align: top;\n",
       "    }\n",
       "\n",
       "    .dataframe thead th {\n",
       "        text-align: right;\n",
       "    }\n",
       "</style>\n",
       "<table border=\"1\" class=\"dataframe\">\n",
       "  <thead>\n",
       "    <tr style=\"text-align: right;\">\n",
       "      <th></th>\n",
       "      <th>customerId</th>\n",
       "      <th>Brand</th>\n",
       "      <th>purchase_count</th>\n",
       "      <th>productId</th>\n",
       "    </tr>\n",
       "  </thead>\n",
       "  <tbody>\n",
       "    <tr>\n",
       "      <th>0</th>\n",
       "      <td>Customer_0</td>\n",
       "      <td>altar'd state</td>\n",
       "      <td>1</td>\n",
       "      <td>215</td>\n",
       "    </tr>\n",
       "    <tr>\n",
       "      <th>1</th>\n",
       "      <td>Customer_0</td>\n",
       "      <td>ann taylor loft</td>\n",
       "      <td>1</td>\n",
       "      <td>446</td>\n",
       "    </tr>\n",
       "  </tbody>\n",
       "</table>\n",
       "</div>"
      ],
      "text/plain": [
       "   customerId            Brand  purchase_count  productId\n",
       "0  Customer_0    altar'd state               1        215\n",
       "1  Customer_0  ann taylor loft               1        446"
      ]
     },
     "execution_count": 88,
     "metadata": {},
     "output_type": "execute_result"
    }
   ],
   "source": [
    "transactions.head(2)"
   ]
  },
  {
   "cell_type": "code",
   "execution_count": 89,
   "metadata": {},
   "outputs": [
    {
     "data": {
      "text/html": [
       "<div>\n",
       "<style scoped>\n",
       "    .dataframe tbody tr th:only-of-type {\n",
       "        vertical-align: middle;\n",
       "    }\n",
       "\n",
       "    .dataframe tbody tr th {\n",
       "        vertical-align: top;\n",
       "    }\n",
       "\n",
       "    .dataframe thead th {\n",
       "        text-align: right;\n",
       "    }\n",
       "</style>\n",
       "<table border=\"1\" class=\"dataframe\">\n",
       "  <thead>\n",
       "    <tr style=\"text-align: right;\">\n",
       "      <th></th>\n",
       "      <th>customerId</th>\n",
       "      <th>Brand</th>\n",
       "      <th>purchase_count</th>\n",
       "      <th>productId</th>\n",
       "    </tr>\n",
       "  </thead>\n",
       "  <tbody>\n",
       "    <tr>\n",
       "      <th>0</th>\n",
       "      <td>Customer_0</td>\n",
       "      <td>altar'd state</td>\n",
       "      <td>1</td>\n",
       "      <td>215</td>\n",
       "    </tr>\n",
       "    <tr>\n",
       "      <th>1</th>\n",
       "      <td>Customer_0</td>\n",
       "      <td>ann taylor loft</td>\n",
       "      <td>1</td>\n",
       "      <td>446</td>\n",
       "    </tr>\n",
       "    <tr>\n",
       "      <th>2</th>\n",
       "      <td>Customer_0</td>\n",
       "      <td>armani</td>\n",
       "      <td>1</td>\n",
       "      <td>559</td>\n",
       "    </tr>\n",
       "    <tr>\n",
       "      <th>3</th>\n",
       "      <td>Customer_0</td>\n",
       "      <td>asics</td>\n",
       "      <td>1</td>\n",
       "      <td>578</td>\n",
       "    </tr>\n",
       "    <tr>\n",
       "      <th>4</th>\n",
       "      <td>Customer_0</td>\n",
       "      <td>autozone</td>\n",
       "      <td>2</td>\n",
       "      <td>579</td>\n",
       "    </tr>\n",
       "    <tr>\n",
       "      <th>...</th>\n",
       "      <td>...</td>\n",
       "      <td>...</td>\n",
       "      <td>...</td>\n",
       "      <td>...</td>\n",
       "    </tr>\n",
       "    <tr>\n",
       "      <th>93</th>\n",
       "      <td>Customer_0</td>\n",
       "      <td>verizon wireless</td>\n",
       "      <td>1</td>\n",
       "      <td>108</td>\n",
       "    </tr>\n",
       "    <tr>\n",
       "      <th>94</th>\n",
       "      <td>Customer_0</td>\n",
       "      <td>walgreens</td>\n",
       "      <td>4</td>\n",
       "      <td>41</td>\n",
       "    </tr>\n",
       "    <tr>\n",
       "      <th>95</th>\n",
       "      <td>Customer_0</td>\n",
       "      <td>wendy's</td>\n",
       "      <td>2</td>\n",
       "      <td>14</td>\n",
       "    </tr>\n",
       "    <tr>\n",
       "      <th>96</th>\n",
       "      <td>Customer_0</td>\n",
       "      <td>whirlpool</td>\n",
       "      <td>3</td>\n",
       "      <td>555</td>\n",
       "    </tr>\n",
       "    <tr>\n",
       "      <th>97</th>\n",
       "      <td>Customer_0</td>\n",
       "      <td>zara</td>\n",
       "      <td>1</td>\n",
       "      <td>149</td>\n",
       "    </tr>\n",
       "  </tbody>\n",
       "</table>\n",
       "<p>98 rows × 4 columns</p>\n",
       "</div>"
      ],
      "text/plain": [
       "    customerId             Brand  purchase_count  productId\n",
       "0   Customer_0     altar'd state               1        215\n",
       "1   Customer_0   ann taylor loft               1        446\n",
       "2   Customer_0            armani               1        559\n",
       "3   Customer_0             asics               1        578\n",
       "4   Customer_0          autozone               2        579\n",
       "..         ...               ...             ...        ...\n",
       "93  Customer_0  verizon wireless               1        108\n",
       "94  Customer_0         walgreens               4         41\n",
       "95  Customer_0           wendy's               2         14\n",
       "96  Customer_0         whirlpool               3        555\n",
       "97  Customer_0              zara               1        149\n",
       "\n",
       "[98 rows x 4 columns]"
      ]
     },
     "execution_count": 89,
     "metadata": {},
     "output_type": "execute_result"
    }
   ],
   "source": [
    "transactions[transactions[\"customerId\"]==\"Customer_0\"]"
   ]
  },
  {
   "cell_type": "code",
   "execution_count": 90,
   "metadata": {},
   "outputs": [
    {
     "data": {
      "text/plain": [
       "['state farm',\n",
       " 'ultra mobile',\n",
       " 'jpmorgan chase bank, n.a.',\n",
       " 'tire rack',\n",
       " 'wells fargo',\n",
       " 'goodyear',\n",
       " 'citgo petroleum corporation',\n",
       " \"domino's pizza\",\n",
       " \"popeye's chicken\",\n",
       " 'laz parking']"
      ]
     },
     "execution_count": 90,
     "metadata": {},
     "output_type": "execute_result"
    }
   ],
   "source": [
    "pred_results(\"Customer_0\",10)"
   ]
  },
  {
   "cell_type": "code",
   "execution_count": 91,
   "metadata": {},
   "outputs": [
    {
     "data": {
      "text/html": [
       "<div>\n",
       "<style scoped>\n",
       "    .dataframe tbody tr th:only-of-type {\n",
       "        vertical-align: middle;\n",
       "    }\n",
       "\n",
       "    .dataframe tbody tr th {\n",
       "        vertical-align: top;\n",
       "    }\n",
       "\n",
       "    .dataframe thead th {\n",
       "        text-align: right;\n",
       "    }\n",
       "</style>\n",
       "<table border=\"1\" class=\"dataframe\">\n",
       "  <thead>\n",
       "    <tr style=\"text-align: right;\">\n",
       "      <th></th>\n",
       "      <th>customerId</th>\n",
       "      <th>Brand</th>\n",
       "      <th>purchase_count</th>\n",
       "      <th>productId</th>\n",
       "    </tr>\n",
       "  </thead>\n",
       "  <tbody>\n",
       "    <tr>\n",
       "      <th>98</th>\n",
       "      <td>Customer_1</td>\n",
       "      <td>A&amp;W Restaurants</td>\n",
       "      <td>1</td>\n",
       "      <td>316</td>\n",
       "    </tr>\n",
       "    <tr>\n",
       "      <th>99</th>\n",
       "      <td>Customer_1</td>\n",
       "      <td>aamco</td>\n",
       "      <td>1</td>\n",
       "      <td>0</td>\n",
       "    </tr>\n",
       "    <tr>\n",
       "      <th>100</th>\n",
       "      <td>Customer_1</td>\n",
       "      <td>aaron's</td>\n",
       "      <td>1</td>\n",
       "      <td>361</td>\n",
       "    </tr>\n",
       "    <tr>\n",
       "      <th>101</th>\n",
       "      <td>Customer_1</td>\n",
       "      <td>abc supply co.</td>\n",
       "      <td>1</td>\n",
       "      <td>396</td>\n",
       "    </tr>\n",
       "    <tr>\n",
       "      <th>102</th>\n",
       "      <td>Customer_1</td>\n",
       "      <td>autozone</td>\n",
       "      <td>3</td>\n",
       "      <td>579</td>\n",
       "    </tr>\n",
       "    <tr>\n",
       "      <th>...</th>\n",
       "      <td>...</td>\n",
       "      <td>...</td>\n",
       "      <td>...</td>\n",
       "      <td>...</td>\n",
       "    </tr>\n",
       "    <tr>\n",
       "      <th>189</th>\n",
       "      <td>Customer_1</td>\n",
       "      <td>vans shoes</td>\n",
       "      <td>3</td>\n",
       "      <td>99</td>\n",
       "    </tr>\n",
       "    <tr>\n",
       "      <th>190</th>\n",
       "      <td>Customer_1</td>\n",
       "      <td>wells fargo</td>\n",
       "      <td>3</td>\n",
       "      <td>466</td>\n",
       "    </tr>\n",
       "    <tr>\n",
       "      <th>191</th>\n",
       "      <td>Customer_1</td>\n",
       "      <td>wendy's</td>\n",
       "      <td>1</td>\n",
       "      <td>14</td>\n",
       "    </tr>\n",
       "    <tr>\n",
       "      <th>192</th>\n",
       "      <td>Customer_1</td>\n",
       "      <td>whirlpool</td>\n",
       "      <td>1</td>\n",
       "      <td>555</td>\n",
       "    </tr>\n",
       "    <tr>\n",
       "      <th>193</th>\n",
       "      <td>Customer_1</td>\n",
       "      <td>whole foods market</td>\n",
       "      <td>1</td>\n",
       "      <td>337</td>\n",
       "    </tr>\n",
       "  </tbody>\n",
       "</table>\n",
       "<p>96 rows × 4 columns</p>\n",
       "</div>"
      ],
      "text/plain": [
       "     customerId               Brand  purchase_count  productId\n",
       "98   Customer_1     A&W Restaurants               1        316\n",
       "99   Customer_1               aamco               1          0\n",
       "100  Customer_1             aaron's               1        361\n",
       "101  Customer_1      abc supply co.               1        396\n",
       "102  Customer_1            autozone               3        579\n",
       "..          ...                 ...             ...        ...\n",
       "189  Customer_1          vans shoes               3         99\n",
       "190  Customer_1         wells fargo               3        466\n",
       "191  Customer_1             wendy's               1         14\n",
       "192  Customer_1           whirlpool               1        555\n",
       "193  Customer_1  whole foods market               1        337\n",
       "\n",
       "[96 rows x 4 columns]"
      ]
     },
     "execution_count": 91,
     "metadata": {},
     "output_type": "execute_result"
    }
   ],
   "source": [
    "transactions[transactions[\"customerId\"]==\"Customer_1\"]"
   ]
  },
  {
   "cell_type": "code",
   "execution_count": 92,
   "metadata": {},
   "outputs": [
    {
     "data": {
      "text/plain": [
       "['walgreens',\n",
       " \"peet's coffee & tea\",\n",
       " 'tire rack',\n",
       " 'pizza hut',\n",
       " 'cummins',\n",
       " 'hertz',\n",
       " 'radisson',\n",
       " 'napa auto parts',\n",
       " 'best western plus',\n",
       " 'at&t store']"
      ]
     },
     "execution_count": 92,
     "metadata": {},
     "output_type": "execute_result"
    }
   ],
   "source": [
    "pred_results(\"Customer_1\",10)"
   ]
  },
  {
   "cell_type": "code",
   "execution_count": 258,
   "metadata": {},
   "outputs": [
    {
     "data": {
      "text/html": [
       "<div>\n",
       "<style scoped>\n",
       "    .dataframe tbody tr th:only-of-type {\n",
       "        vertical-align: middle;\n",
       "    }\n",
       "\n",
       "    .dataframe tbody tr th {\n",
       "        vertical-align: top;\n",
       "    }\n",
       "\n",
       "    .dataframe thead th {\n",
       "        text-align: right;\n",
       "    }\n",
       "</style>\n",
       "<table border=\"1\" class=\"dataframe\">\n",
       "  <thead>\n",
       "    <tr style=\"text-align: right;\">\n",
       "      <th></th>\n",
       "      <th>customerId</th>\n",
       "      <th>Brand</th>\n",
       "      <th>purchase_count</th>\n",
       "      <th>productId</th>\n",
       "    </tr>\n",
       "  </thead>\n",
       "  <tbody>\n",
       "    <tr>\n",
       "      <th>8</th>\n",
       "      <td>Customer_002</td>\n",
       "      <td>peet's coffee &amp; tea</td>\n",
       "      <td>180</td>\n",
       "      <td>7</td>\n",
       "    </tr>\n",
       "  </tbody>\n",
       "</table>\n",
       "</div>"
      ],
      "text/plain": [
       "     customerId                Brand  purchase_count  productId\n",
       "8  Customer_002  peet's coffee & tea             180          7"
      ]
     },
     "execution_count": 258,
     "metadata": {},
     "output_type": "execute_result"
    }
   ],
   "source": [
    "transactions[transactions[\"customerId\"]==\"Customer_002\"]"
   ]
  },
  {
   "cell_type": "code",
   "execution_count": 344,
   "metadata": {},
   "outputs": [
    {
     "data": {
      "text/plain": [
       "['mcdonalds', 'subway']"
      ]
     },
     "execution_count": 344,
     "metadata": {},
     "output_type": "execute_result"
    }
   ],
   "source": [
    "pred_results(\"Customer_002\",2)"
   ]
  },
  {
   "cell_type": "code",
   "execution_count": 260,
   "metadata": {},
   "outputs": [
    {
     "data": {
      "text/html": [
       "<div>\n",
       "<style scoped>\n",
       "    .dataframe tbody tr th:only-of-type {\n",
       "        vertical-align: middle;\n",
       "    }\n",
       "\n",
       "    .dataframe tbody tr th {\n",
       "        vertical-align: top;\n",
       "    }\n",
       "\n",
       "    .dataframe thead th {\n",
       "        text-align: right;\n",
       "    }\n",
       "</style>\n",
       "<table border=\"1\" class=\"dataframe\">\n",
       "  <thead>\n",
       "    <tr style=\"text-align: right;\">\n",
       "      <th></th>\n",
       "      <th>customerId</th>\n",
       "      <th>Brand</th>\n",
       "      <th>purchase_count</th>\n",
       "      <th>productId</th>\n",
       "    </tr>\n",
       "  </thead>\n",
       "  <tbody>\n",
       "    <tr>\n",
       "      <th>9</th>\n",
       "      <td>Customer_003</td>\n",
       "      <td>chevron</td>\n",
       "      <td>30</td>\n",
       "      <td>4</td>\n",
       "    </tr>\n",
       "    <tr>\n",
       "      <th>10</th>\n",
       "      <td>Customer_003</td>\n",
       "      <td>domino's pizza</td>\n",
       "      <td>6</td>\n",
       "      <td>9</td>\n",
       "    </tr>\n",
       "    <tr>\n",
       "      <th>11</th>\n",
       "      <td>Customer_003</td>\n",
       "      <td>kfc</td>\n",
       "      <td>5</td>\n",
       "      <td>1</td>\n",
       "    </tr>\n",
       "    <tr>\n",
       "      <th>12</th>\n",
       "      <td>Customer_003</td>\n",
       "      <td>planet fitness</td>\n",
       "      <td>1</td>\n",
       "      <td>5</td>\n",
       "    </tr>\n",
       "    <tr>\n",
       "      <th>13</th>\n",
       "      <td>Customer_003</td>\n",
       "      <td>redbox</td>\n",
       "      <td>44</td>\n",
       "      <td>6</td>\n",
       "    </tr>\n",
       "    <tr>\n",
       "      <th>14</th>\n",
       "      <td>Customer_003</td>\n",
       "      <td>starbucks</td>\n",
       "      <td>21</td>\n",
       "      <td>8</td>\n",
       "    </tr>\n",
       "  </tbody>\n",
       "</table>\n",
       "</div>"
      ],
      "text/plain": [
       "      customerId           Brand  purchase_count  productId\n",
       "9   Customer_003         chevron              30          4\n",
       "10  Customer_003  domino's pizza               6          9\n",
       "11  Customer_003             kfc               5          1\n",
       "12  Customer_003  planet fitness               1          5\n",
       "13  Customer_003          redbox              44          6\n",
       "14  Customer_003       starbucks              21          8"
      ]
     },
     "execution_count": 260,
     "metadata": {},
     "output_type": "execute_result"
    }
   ],
   "source": [
    "\n",
    "transactions[transactions[\"customerId\"]==\"Customer_003\"]"
   ]
  },
  {
   "cell_type": "code",
   "execution_count": 345,
   "metadata": {},
   "outputs": [
    {
     "data": {
      "text/plain": [
       "['mcdonalds', 'subway']"
      ]
     },
     "execution_count": 345,
     "metadata": {},
     "output_type": "execute_result"
    }
   ],
   "source": [
    "pred_results(\"Customer_003\",2)"
   ]
  },
  {
   "cell_type": "code",
   "execution_count": 262,
   "metadata": {},
   "outputs": [
    {
     "data": {
      "text/html": [
       "<div>\n",
       "<style scoped>\n",
       "    .dataframe tbody tr th:only-of-type {\n",
       "        vertical-align: middle;\n",
       "    }\n",
       "\n",
       "    .dataframe tbody tr th {\n",
       "        vertical-align: top;\n",
       "    }\n",
       "\n",
       "    .dataframe thead th {\n",
       "        text-align: right;\n",
       "    }\n",
       "</style>\n",
       "<table border=\"1\" class=\"dataframe\">\n",
       "  <thead>\n",
       "    <tr style=\"text-align: right;\">\n",
       "      <th></th>\n",
       "      <th>customerId</th>\n",
       "      <th>Brand</th>\n",
       "      <th>purchase_count</th>\n",
       "      <th>productId</th>\n",
       "    </tr>\n",
       "  </thead>\n",
       "  <tbody>\n",
       "    <tr>\n",
       "      <th>15</th>\n",
       "      <td>Customer_004</td>\n",
       "      <td>chevron</td>\n",
       "      <td>26</td>\n",
       "      <td>4</td>\n",
       "    </tr>\n",
       "    <tr>\n",
       "      <th>16</th>\n",
       "      <td>Customer_004</td>\n",
       "      <td>domino's pizza</td>\n",
       "      <td>7</td>\n",
       "      <td>9</td>\n",
       "    </tr>\n",
       "    <tr>\n",
       "      <th>17</th>\n",
       "      <td>Customer_004</td>\n",
       "      <td>kfc</td>\n",
       "      <td>9</td>\n",
       "      <td>1</td>\n",
       "    </tr>\n",
       "    <tr>\n",
       "      <th>18</th>\n",
       "      <td>Customer_004</td>\n",
       "      <td>planet fitness</td>\n",
       "      <td>1</td>\n",
       "      <td>5</td>\n",
       "    </tr>\n",
       "    <tr>\n",
       "      <th>19</th>\n",
       "      <td>Customer_004</td>\n",
       "      <td>redbox</td>\n",
       "      <td>42</td>\n",
       "      <td>6</td>\n",
       "    </tr>\n",
       "    <tr>\n",
       "      <th>20</th>\n",
       "      <td>Customer_004</td>\n",
       "      <td>starbucks</td>\n",
       "      <td>17</td>\n",
       "      <td>8</td>\n",
       "    </tr>\n",
       "  </tbody>\n",
       "</table>\n",
       "</div>"
      ],
      "text/plain": [
       "      customerId           Brand  purchase_count  productId\n",
       "15  Customer_004         chevron              26          4\n",
       "16  Customer_004  domino's pizza               7          9\n",
       "17  Customer_004             kfc               9          1\n",
       "18  Customer_004  planet fitness               1          5\n",
       "19  Customer_004          redbox              42          6\n",
       "20  Customer_004       starbucks              17          8"
      ]
     },
     "execution_count": 262,
     "metadata": {},
     "output_type": "execute_result"
    }
   ],
   "source": [
    "transactions[transactions[\"customerId\"]==\"Customer_004\"]"
   ]
  },
  {
   "cell_type": "code",
   "execution_count": 346,
   "metadata": {},
   "outputs": [
    {
     "data": {
      "text/plain": [
       "['chevron', 'mcdonalds', 'subway']"
      ]
     },
     "execution_count": 346,
     "metadata": {},
     "output_type": "execute_result"
    }
   ],
   "source": [
    "pred_results(\"deepak\",3)"
   ]
  },
  {
   "cell_type": "code",
   "execution_count": 264,
   "metadata": {},
   "outputs": [
    {
     "data": {
      "text/html": [
       "<div>\n",
       "<style scoped>\n",
       "    .dataframe tbody tr th:only-of-type {\n",
       "        vertical-align: middle;\n",
       "    }\n",
       "\n",
       "    .dataframe tbody tr th {\n",
       "        vertical-align: top;\n",
       "    }\n",
       "\n",
       "    .dataframe thead th {\n",
       "        text-align: right;\n",
       "    }\n",
       "</style>\n",
       "<table border=\"1\" class=\"dataframe\">\n",
       "  <thead>\n",
       "    <tr style=\"text-align: right;\">\n",
       "      <th></th>\n",
       "      <th>customerId</th>\n",
       "      <th>Brand</th>\n",
       "      <th>purchase_count</th>\n",
       "      <th>productId</th>\n",
       "    </tr>\n",
       "  </thead>\n",
       "  <tbody>\n",
       "    <tr>\n",
       "      <th>21</th>\n",
       "      <td>Customer_005</td>\n",
       "      <td>chevron</td>\n",
       "      <td>18</td>\n",
       "      <td>4</td>\n",
       "    </tr>\n",
       "    <tr>\n",
       "      <th>22</th>\n",
       "      <td>Customer_005</td>\n",
       "      <td>domino's pizza</td>\n",
       "      <td>4</td>\n",
       "      <td>9</td>\n",
       "    </tr>\n",
       "    <tr>\n",
       "      <th>23</th>\n",
       "      <td>Customer_005</td>\n",
       "      <td>kfc</td>\n",
       "      <td>3</td>\n",
       "      <td>1</td>\n",
       "    </tr>\n",
       "    <tr>\n",
       "      <th>24</th>\n",
       "      <td>Customer_005</td>\n",
       "      <td>planet fitness</td>\n",
       "      <td>4</td>\n",
       "      <td>5</td>\n",
       "    </tr>\n",
       "    <tr>\n",
       "      <th>25</th>\n",
       "      <td>Customer_005</td>\n",
       "      <td>redbox</td>\n",
       "      <td>38</td>\n",
       "      <td>6</td>\n",
       "    </tr>\n",
       "    <tr>\n",
       "      <th>26</th>\n",
       "      <td>Customer_005</td>\n",
       "      <td>starbucks</td>\n",
       "      <td>16</td>\n",
       "      <td>8</td>\n",
       "    </tr>\n",
       "  </tbody>\n",
       "</table>\n",
       "</div>"
      ],
      "text/plain": [
       "      customerId           Brand  purchase_count  productId\n",
       "21  Customer_005         chevron              18          4\n",
       "22  Customer_005  domino's pizza               4          9\n",
       "23  Customer_005             kfc               3          1\n",
       "24  Customer_005  planet fitness               4          5\n",
       "25  Customer_005          redbox              38          6\n",
       "26  Customer_005       starbucks              16          8"
      ]
     },
     "execution_count": 264,
     "metadata": {},
     "output_type": "execute_result"
    }
   ],
   "source": [
    "transactions[transactions[\"customerId\"]==\"Customer_005\"]"
   ]
  },
  {
   "cell_type": "code",
   "execution_count": 318,
   "metadata": {},
   "outputs": [
    {
     "data": {
      "text/plain": [
       "['subway', 'mcdonalds', \"peet's coffee & tea\"]"
      ]
     },
     "execution_count": 318,
     "metadata": {},
     "output_type": "execute_result"
    }
   ],
   "source": [
    "pred_results(\"Customer_005\",5)"
   ]
  },
  {
   "cell_type": "code",
   "execution_count": 233,
   "metadata": {},
   "outputs": [
    {
     "data": {
      "text/html": [
       "<div>\n",
       "<style scoped>\n",
       "    .dataframe tbody tr th:only-of-type {\n",
       "        vertical-align: middle;\n",
       "    }\n",
       "\n",
       "    .dataframe tbody tr th {\n",
       "        vertical-align: top;\n",
       "    }\n",
       "\n",
       "    .dataframe thead th {\n",
       "        text-align: right;\n",
       "    }\n",
       "</style>\n",
       "<table border=\"1\" class=\"dataframe\">\n",
       "  <thead>\n",
       "    <tr style=\"text-align: right;\">\n",
       "      <th></th>\n",
       "      <th>customerId</th>\n",
       "      <th>Brand</th>\n",
       "      <th>purchase_count</th>\n",
       "      <th>productId</th>\n",
       "    </tr>\n",
       "  </thead>\n",
       "  <tbody>\n",
       "    <tr>\n",
       "      <th>27</th>\n",
       "      <td>Customer_006</td>\n",
       "      <td>chevron</td>\n",
       "      <td>18</td>\n",
       "      <td>4</td>\n",
       "    </tr>\n",
       "    <tr>\n",
       "      <th>28</th>\n",
       "      <td>Customer_006</td>\n",
       "      <td>domino's pizza</td>\n",
       "      <td>7</td>\n",
       "      <td>9</td>\n",
       "    </tr>\n",
       "    <tr>\n",
       "      <th>29</th>\n",
       "      <td>Customer_006</td>\n",
       "      <td>kfc</td>\n",
       "      <td>4</td>\n",
       "      <td>1</td>\n",
       "    </tr>\n",
       "    <tr>\n",
       "      <th>30</th>\n",
       "      <td>Customer_006</td>\n",
       "      <td>planet fitness</td>\n",
       "      <td>1</td>\n",
       "      <td>5</td>\n",
       "    </tr>\n",
       "    <tr>\n",
       "      <th>31</th>\n",
       "      <td>Customer_006</td>\n",
       "      <td>redbox</td>\n",
       "      <td>31</td>\n",
       "      <td>6</td>\n",
       "    </tr>\n",
       "    <tr>\n",
       "      <th>32</th>\n",
       "      <td>Customer_006</td>\n",
       "      <td>starbucks</td>\n",
       "      <td>11</td>\n",
       "      <td>8</td>\n",
       "    </tr>\n",
       "  </tbody>\n",
       "</table>\n",
       "</div>"
      ],
      "text/plain": [
       "      customerId           Brand  purchase_count  productId\n",
       "27  Customer_006         chevron              18          4\n",
       "28  Customer_006  domino's pizza               7          9\n",
       "29  Customer_006             kfc               4          1\n",
       "30  Customer_006  planet fitness               1          5\n",
       "31  Customer_006          redbox              31          6\n",
       "32  Customer_006       starbucks              11          8"
      ]
     },
     "execution_count": 233,
     "metadata": {},
     "output_type": "execute_result"
    }
   ],
   "source": [
    "transactions[transactions[\"customerId\"]==\"Customer_006\"]"
   ]
  },
  {
   "cell_type": "code",
   "execution_count": 319,
   "metadata": {},
   "outputs": [
    {
     "data": {
      "text/plain": [
       "['mcdonalds', 'subway']"
      ]
     },
     "execution_count": 319,
     "metadata": {},
     "output_type": "execute_result"
    }
   ],
   "source": [
    "\n",
    "pred_results(\"Customer_006\",2)"
   ]
  },
  {
   "cell_type": "code",
   "execution_count": 235,
   "metadata": {},
   "outputs": [
    {
     "data": {
      "text/html": [
       "<div>\n",
       "<style scoped>\n",
       "    .dataframe tbody tr th:only-of-type {\n",
       "        vertical-align: middle;\n",
       "    }\n",
       "\n",
       "    .dataframe tbody tr th {\n",
       "        vertical-align: top;\n",
       "    }\n",
       "\n",
       "    .dataframe thead th {\n",
       "        text-align: right;\n",
       "    }\n",
       "</style>\n",
       "<table border=\"1\" class=\"dataframe\">\n",
       "  <thead>\n",
       "    <tr style=\"text-align: right;\">\n",
       "      <th></th>\n",
       "      <th>customerId</th>\n",
       "      <th>Brand</th>\n",
       "      <th>purchase_count</th>\n",
       "      <th>productId</th>\n",
       "    </tr>\n",
       "  </thead>\n",
       "  <tbody>\n",
       "    <tr>\n",
       "      <th>33</th>\n",
       "      <td>Customer_007</td>\n",
       "      <td>chevron</td>\n",
       "      <td>27</td>\n",
       "      <td>4</td>\n",
       "    </tr>\n",
       "    <tr>\n",
       "      <th>34</th>\n",
       "      <td>Customer_007</td>\n",
       "      <td>domino's pizza</td>\n",
       "      <td>5</td>\n",
       "      <td>9</td>\n",
       "    </tr>\n",
       "    <tr>\n",
       "      <th>35</th>\n",
       "      <td>Customer_007</td>\n",
       "      <td>kfc</td>\n",
       "      <td>3</td>\n",
       "      <td>1</td>\n",
       "    </tr>\n",
       "    <tr>\n",
       "      <th>36</th>\n",
       "      <td>Customer_007</td>\n",
       "      <td>planet fitness</td>\n",
       "      <td>2</td>\n",
       "      <td>5</td>\n",
       "    </tr>\n",
       "    <tr>\n",
       "      <th>37</th>\n",
       "      <td>Customer_007</td>\n",
       "      <td>redbox</td>\n",
       "      <td>41</td>\n",
       "      <td>6</td>\n",
       "    </tr>\n",
       "    <tr>\n",
       "      <th>38</th>\n",
       "      <td>Customer_007</td>\n",
       "      <td>starbucks</td>\n",
       "      <td>22</td>\n",
       "      <td>8</td>\n",
       "    </tr>\n",
       "  </tbody>\n",
       "</table>\n",
       "</div>"
      ],
      "text/plain": [
       "      customerId           Brand  purchase_count  productId\n",
       "33  Customer_007         chevron              27          4\n",
       "34  Customer_007  domino's pizza               5          9\n",
       "35  Customer_007             kfc               3          1\n",
       "36  Customer_007  planet fitness               2          5\n",
       "37  Customer_007          redbox              41          6\n",
       "38  Customer_007       starbucks              22          8"
      ]
     },
     "execution_count": 235,
     "metadata": {},
     "output_type": "execute_result"
    }
   ],
   "source": [
    "transactions[transactions[\"customerId\"]==\"Customer_007\"]"
   ]
  },
  {
   "cell_type": "code",
   "execution_count": 320,
   "metadata": {},
   "outputs": [
    {
     "data": {
      "text/plain": [
       "['mcdonalds', 'subway']"
      ]
     },
     "execution_count": 320,
     "metadata": {},
     "output_type": "execute_result"
    }
   ],
   "source": [
    "pred_results(\"Customer_007\",2)"
   ]
  },
  {
   "cell_type": "code",
   "execution_count": 237,
   "metadata": {},
   "outputs": [
    {
     "data": {
      "text/plain": [
       "['mcdonalds', 'subway']"
      ]
     },
     "execution_count": 237,
     "metadata": {},
     "output_type": "execute_result"
    }
   ],
   "source": [
    "pred_results(\"Customer_008\",2)"
   ]
  },
  {
   "cell_type": "code",
   "execution_count": 238,
   "metadata": {},
   "outputs": [
    {
     "data": {
      "text/plain": [
       "['mcdonalds', 'subway']"
      ]
     },
     "execution_count": 238,
     "metadata": {},
     "output_type": "execute_result"
    }
   ],
   "source": [
    "pred_results(\"Customer_009\",2)"
   ]
  },
  {
   "cell_type": "code",
   "execution_count": 239,
   "metadata": {},
   "outputs": [
    {
     "data": {
      "text/plain": [
       "['mcdonalds', 'subway']"
      ]
     },
     "execution_count": 239,
     "metadata": {},
     "output_type": "execute_result"
    }
   ],
   "source": [
    "pred_results(\"Customer_010\",2)"
   ]
  },
  {
   "cell_type": "code",
   "execution_count": 242,
   "metadata": {},
   "outputs": [
    {
     "data": {
      "text/plain": [
       "['mcdonalds', 'subway']"
      ]
     },
     "execution_count": 242,
     "metadata": {},
     "output_type": "execute_result"
    }
   ],
   "source": [
    "pred_results(1,2)"
   ]
  },
  {
   "cell_type": "code",
   "execution_count": null,
   "metadata": {},
   "outputs": [],
   "source": [
    "### Conclusion :  "
   ]
  },
  {
   "cell_type": "code",
   "execution_count": null,
   "metadata": {},
   "outputs": [],
   "source": []
  },
  {
   "cell_type": "code",
   "execution_count": null,
   "metadata": {},
   "outputs": [],
   "source": []
  },
  {
   "cell_type": "code",
   "execution_count": null,
   "metadata": {},
   "outputs": [],
   "source": []
  },
  {
   "cell_type": "code",
   "execution_count": null,
   "metadata": {},
   "outputs": [],
   "source": []
  },
  {
   "cell_type": "code",
   "execution_count": null,
   "metadata": {},
   "outputs": [],
   "source": []
  },
  {
   "cell_type": "code",
   "execution_count": null,
   "metadata": {},
   "outputs": [],
   "source": []
  },
  {
   "cell_type": "code",
   "execution_count": null,
   "metadata": {},
   "outputs": [],
   "source": []
  },
  {
   "cell_type": "code",
   "execution_count": null,
   "metadata": {},
   "outputs": [],
   "source": []
  }
 ],
 "metadata": {
  "kernelspec": {
   "display_name": "Python 3",
   "language": "python",
   "name": "python3"
  },
  "language_info": {
   "codemirror_mode": {
    "name": "ipython",
    "version": 3
   },
   "file_extension": ".py",
   "mimetype": "text/x-python",
   "name": "python",
   "nbconvert_exporter": "python",
   "pygments_lexer": "ipython3",
   "version": "3.8.5"
  }
 },
 "nbformat": 4,
 "nbformat_minor": 2
}
